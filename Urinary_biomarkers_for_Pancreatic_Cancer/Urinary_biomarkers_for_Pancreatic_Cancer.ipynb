{
 "cells": [
  {
   "cell_type": "code",
   "execution_count": 68,
   "metadata": {},
   "outputs": [],
   "source": [
    "import pandas as pd\n",
    "import numpy as np\n",
    "\n",
    "from sklearn.model_selection import train_test_split\n",
    "from sklearn.feature_selection import VarianceThreshold\n",
    "\n",
    "import datetime\n",
    "import seaborn as sns\n",
    "import matplotlib.pyplot as plt\n",
    "\n",
    "from sklearn.preprocessing import LabelEncoder\n",
    "from sklearn.preprocessing import OrdinalEncoder\n",
    "\n",
    "%matplotlib inline\n",
    "import warnings\n",
    "warnings.filterwarnings(\"ignore\")"
   ]
  },
  {
   "cell_type": "code",
   "execution_count": 69,
   "metadata": {},
   "outputs": [
    {
     "data": {
      "text/plain": [
       "(590, 14)"
      ]
     },
     "execution_count": 69,
     "metadata": {},
     "output_type": "execute_result"
    }
   ],
   "source": [
    "# load and read any dataset\n",
    "data = pd.read_csv('D:/Cuproject/Urinary_biomarkers_for_Pancreatic_Cancer/cancer/Debernardi_et_al_2020_data.csv')\n",
    "data.shape"
   ]
  },
  {
   "cell_type": "markdown",
   "metadata": {},
   "source": [
    "### Analyse the Raw data"
   ]
  },
  {
   "cell_type": "code",
   "execution_count": 70,
   "metadata": {},
   "outputs": [
    {
     "data": {
      "text/html": [
       "<div>\n",
       "<style scoped>\n",
       "    .dataframe tbody tr th:only-of-type {\n",
       "        vertical-align: middle;\n",
       "    }\n",
       "\n",
       "    .dataframe tbody tr th {\n",
       "        vertical-align: top;\n",
       "    }\n",
       "\n",
       "    .dataframe thead th {\n",
       "        text-align: right;\n",
       "    }\n",
       "</style>\n",
       "<table border=\"1\" class=\"dataframe\">\n",
       "  <thead>\n",
       "    <tr style=\"text-align: right;\">\n",
       "      <th></th>\n",
       "      <th>sample_id</th>\n",
       "      <th>patient_cohort</th>\n",
       "      <th>sample_origin</th>\n",
       "      <th>age</th>\n",
       "      <th>sex</th>\n",
       "      <th>diagnosis</th>\n",
       "      <th>stage</th>\n",
       "      <th>benign_sample_diagnosis</th>\n",
       "      <th>plasma_CA19_9</th>\n",
       "      <th>creatinine</th>\n",
       "      <th>LYVE1</th>\n",
       "      <th>REG1B</th>\n",
       "      <th>TFF1</th>\n",
       "      <th>REG1A</th>\n",
       "    </tr>\n",
       "  </thead>\n",
       "  <tbody>\n",
       "    <tr>\n",
       "      <td>0</td>\n",
       "      <td>S1</td>\n",
       "      <td>Cohort1</td>\n",
       "      <td>BPTB</td>\n",
       "      <td>33</td>\n",
       "      <td>F</td>\n",
       "      <td>1</td>\n",
       "      <td>NaN</td>\n",
       "      <td>NaN</td>\n",
       "      <td>11.7</td>\n",
       "      <td>1.83222</td>\n",
       "      <td>0.893219</td>\n",
       "      <td>52.94884</td>\n",
       "      <td>654.282174</td>\n",
       "      <td>1262.000</td>\n",
       "    </tr>\n",
       "    <tr>\n",
       "      <td>1</td>\n",
       "      <td>S10</td>\n",
       "      <td>Cohort1</td>\n",
       "      <td>BPTB</td>\n",
       "      <td>81</td>\n",
       "      <td>F</td>\n",
       "      <td>1</td>\n",
       "      <td>NaN</td>\n",
       "      <td>NaN</td>\n",
       "      <td>NaN</td>\n",
       "      <td>0.97266</td>\n",
       "      <td>2.037585</td>\n",
       "      <td>94.46703</td>\n",
       "      <td>209.488250</td>\n",
       "      <td>228.407</td>\n",
       "    </tr>\n",
       "    <tr>\n",
       "      <td>2</td>\n",
       "      <td>S100</td>\n",
       "      <td>Cohort2</td>\n",
       "      <td>BPTB</td>\n",
       "      <td>51</td>\n",
       "      <td>M</td>\n",
       "      <td>1</td>\n",
       "      <td>NaN</td>\n",
       "      <td>NaN</td>\n",
       "      <td>7.0</td>\n",
       "      <td>0.78039</td>\n",
       "      <td>0.145589</td>\n",
       "      <td>102.36600</td>\n",
       "      <td>461.141000</td>\n",
       "      <td>NaN</td>\n",
       "    </tr>\n",
       "    <tr>\n",
       "      <td>3</td>\n",
       "      <td>S101</td>\n",
       "      <td>Cohort2</td>\n",
       "      <td>BPTB</td>\n",
       "      <td>61</td>\n",
       "      <td>M</td>\n",
       "      <td>1</td>\n",
       "      <td>NaN</td>\n",
       "      <td>NaN</td>\n",
       "      <td>8.0</td>\n",
       "      <td>0.70122</td>\n",
       "      <td>0.002805</td>\n",
       "      <td>60.57900</td>\n",
       "      <td>142.950000</td>\n",
       "      <td>NaN</td>\n",
       "    </tr>\n",
       "    <tr>\n",
       "      <td>4</td>\n",
       "      <td>S102</td>\n",
       "      <td>Cohort2</td>\n",
       "      <td>BPTB</td>\n",
       "      <td>62</td>\n",
       "      <td>M</td>\n",
       "      <td>1</td>\n",
       "      <td>NaN</td>\n",
       "      <td>NaN</td>\n",
       "      <td>9.0</td>\n",
       "      <td>0.21489</td>\n",
       "      <td>0.000860</td>\n",
       "      <td>65.54000</td>\n",
       "      <td>41.088000</td>\n",
       "      <td>NaN</td>\n",
       "    </tr>\n",
       "  </tbody>\n",
       "</table>\n",
       "</div>"
      ],
      "text/plain": [
       "  sample_id patient_cohort sample_origin  age sex  diagnosis stage  \\\n",
       "0        S1        Cohort1          BPTB   33   F          1   NaN   \n",
       "1       S10        Cohort1          BPTB   81   F          1   NaN   \n",
       "2      S100        Cohort2          BPTB   51   M          1   NaN   \n",
       "3      S101        Cohort2          BPTB   61   M          1   NaN   \n",
       "4      S102        Cohort2          BPTB   62   M          1   NaN   \n",
       "\n",
       "  benign_sample_diagnosis  plasma_CA19_9  creatinine     LYVE1      REG1B  \\\n",
       "0                     NaN           11.7     1.83222  0.893219   52.94884   \n",
       "1                     NaN            NaN     0.97266  2.037585   94.46703   \n",
       "2                     NaN            7.0     0.78039  0.145589  102.36600   \n",
       "3                     NaN            8.0     0.70122  0.002805   60.57900   \n",
       "4                     NaN            9.0     0.21489  0.000860   65.54000   \n",
       "\n",
       "         TFF1     REG1A  \n",
       "0  654.282174  1262.000  \n",
       "1  209.488250   228.407  \n",
       "2  461.141000       NaN  \n",
       "3  142.950000       NaN  \n",
       "4   41.088000       NaN  "
      ]
     },
     "execution_count": 70,
     "metadata": {},
     "output_type": "execute_result"
    }
   ],
   "source": [
    "data.head(5)"
   ]
  },
  {
   "cell_type": "code",
   "execution_count": 71,
   "metadata": {},
   "outputs": [
    {
     "data": {
      "text/html": [
       "<div>\n",
       "<style scoped>\n",
       "    .dataframe tbody tr th:only-of-type {\n",
       "        vertical-align: middle;\n",
       "    }\n",
       "\n",
       "    .dataframe tbody tr th {\n",
       "        vertical-align: top;\n",
       "    }\n",
       "\n",
       "    .dataframe thead th {\n",
       "        text-align: right;\n",
       "    }\n",
       "</style>\n",
       "<table border=\"1\" class=\"dataframe\">\n",
       "  <thead>\n",
       "    <tr style=\"text-align: right;\">\n",
       "      <th></th>\n",
       "      <th>Column name</th>\n",
       "      <th>Original column name</th>\n",
       "      <th>Details</th>\n",
       "    </tr>\n",
       "  </thead>\n",
       "  <tbody>\n",
       "    <tr>\n",
       "      <td>0</td>\n",
       "      <td>sample_id</td>\n",
       "      <td>Sample ID</td>\n",
       "      <td>Unique string identifying each subject</td>\n",
       "    </tr>\n",
       "    <tr>\n",
       "      <td>1</td>\n",
       "      <td>patient_cohort</td>\n",
       "      <td>Patient's Cohort</td>\n",
       "      <td>Cohort 1,  previously used samples; Cohort 2, ...</td>\n",
       "    </tr>\n",
       "    <tr>\n",
       "      <td>2</td>\n",
       "      <td>sample_origin</td>\n",
       "      <td>Sample Origin</td>\n",
       "      <td>BPTB: Barts Pancreas Tissue Bank, London, UK; ...</td>\n",
       "    </tr>\n",
       "    <tr>\n",
       "      <td>3</td>\n",
       "      <td>age</td>\n",
       "      <td>Age</td>\n",
       "      <td>Age in years</td>\n",
       "    </tr>\n",
       "    <tr>\n",
       "      <td>4</td>\n",
       "      <td>sex</td>\n",
       "      <td>Sex</td>\n",
       "      <td>M = male, F = female</td>\n",
       "    </tr>\n",
       "    <tr>\n",
       "      <td>5</td>\n",
       "      <td>diagnosis</td>\n",
       "      <td>Diagnosis (1=Control, 2=Benign, 3=PDAC)</td>\n",
       "      <td>1 = control (no pancreatic disease), 2 = benig...</td>\n",
       "    </tr>\n",
       "    <tr>\n",
       "      <td>6</td>\n",
       "      <td>stage</td>\n",
       "      <td>Stage</td>\n",
       "      <td>For those with pancratic cancer, what stage wa...</td>\n",
       "    </tr>\n",
       "    <tr>\n",
       "      <td>7</td>\n",
       "      <td>benign_sample_diagnosis</td>\n",
       "      <td>Benign Samples Diagnosis</td>\n",
       "      <td>For those with a benign, non-cancerous diagnos...</td>\n",
       "    </tr>\n",
       "    <tr>\n",
       "      <td>8</td>\n",
       "      <td>plasma_CA19_9</td>\n",
       "      <td>Plasma CA19-9 U/ml</td>\n",
       "      <td>Blood plasma levels of CA 19–9 monoclonal anti...</td>\n",
       "    </tr>\n",
       "    <tr>\n",
       "      <td>9</td>\n",
       "      <td>creatinine</td>\n",
       "      <td>Creatinine mg/ml</td>\n",
       "      <td>Urinary biomarker of kidney function</td>\n",
       "    </tr>\n",
       "    <tr>\n",
       "      <td>10</td>\n",
       "      <td>LYVE1</td>\n",
       "      <td>LYVE1 ng/ml</td>\n",
       "      <td>Urinary levels of Lymphatic vessel endothelial...</td>\n",
       "    </tr>\n",
       "    <tr>\n",
       "      <td>11</td>\n",
       "      <td>REG1B</td>\n",
       "      <td>REG1B ng/ml</td>\n",
       "      <td>Urinary levels of a protein that may be associ...</td>\n",
       "    </tr>\n",
       "    <tr>\n",
       "      <td>12</td>\n",
       "      <td>TFF1</td>\n",
       "      <td>TFF1 ng/ml</td>\n",
       "      <td>Urinary levels of Trefoil Factor 1, which may ...</td>\n",
       "    </tr>\n",
       "    <tr>\n",
       "      <td>13</td>\n",
       "      <td>REG1A</td>\n",
       "      <td>REG1A ng/ml</td>\n",
       "      <td>Urinary levels of a protein that may be associ...</td>\n",
       "    </tr>\n",
       "  </tbody>\n",
       "</table>\n",
       "</div>"
      ],
      "text/plain": [
       "                Column name                     Original column name  \\\n",
       "0                 sample_id                                Sample ID   \n",
       "1            patient_cohort                         Patient's Cohort   \n",
       "2             sample_origin                            Sample Origin   \n",
       "3                       age                                      Age   \n",
       "4                       sex                                      Sex   \n",
       "5                 diagnosis  Diagnosis (1=Control, 2=Benign, 3=PDAC)   \n",
       "6                     stage                                    Stage   \n",
       "7   benign_sample_diagnosis                 Benign Samples Diagnosis   \n",
       "8             plasma_CA19_9                       Plasma CA19-9 U/ml   \n",
       "9                creatinine                         Creatinine mg/ml   \n",
       "10                    LYVE1                              LYVE1 ng/ml   \n",
       "11                    REG1B                              REG1B ng/ml   \n",
       "12                     TFF1                               TFF1 ng/ml   \n",
       "13                    REG1A                              REG1A ng/ml   \n",
       "\n",
       "                                              Details  \n",
       "0              Unique string identifying each subject  \n",
       "1   Cohort 1,  previously used samples; Cohort 2, ...  \n",
       "2   BPTB: Barts Pancreas Tissue Bank, London, UK; ...  \n",
       "3                                        Age in years  \n",
       "4                                M = male, F = female  \n",
       "5   1 = control (no pancreatic disease), 2 = benig...  \n",
       "6   For those with pancratic cancer, what stage wa...  \n",
       "7   For those with a benign, non-cancerous diagnos...  \n",
       "8   Blood plasma levels of CA 19–9 monoclonal anti...  \n",
       "9                Urinary biomarker of kidney function  \n",
       "10  Urinary levels of Lymphatic vessel endothelial...  \n",
       "11  Urinary levels of a protein that may be associ...  \n",
       "12  Urinary levels of Trefoil Factor 1, which may ...  \n",
       "13  Urinary levels of a protein that may be associ...  "
      ]
     },
     "execution_count": 71,
     "metadata": {},
     "output_type": "execute_result"
    }
   ],
   "source": [
    "data_documentation = pd.read_csv('D:/Cuproject/Urinary_biomarkers_for_Pancreatic_Cancer/documentation/Debernardi_et_al_2020_documentation.csv')\n",
    "data_documentation.head(14)"
   ]
  },
  {
   "cell_type": "markdown",
   "metadata": {},
   "source": [
    "## Preprocessing"
   ]
  },
  {
   "cell_type": "markdown",
   "metadata": {},
   "source": [
    "### Null Imputation"
   ]
  },
  {
   "cell_type": "code",
   "execution_count": 72,
   "metadata": {},
   "outputs": [
    {
     "data": {
      "text/plain": [
       "sample_id                    0\n",
       "patient_cohort               0\n",
       "sample_origin                0\n",
       "age                          0\n",
       "sex                          0\n",
       "diagnosis                    0\n",
       "stage                      391\n",
       "benign_sample_diagnosis    382\n",
       "plasma_CA19_9              240\n",
       "creatinine                   0\n",
       "LYVE1                        0\n",
       "REG1B                        0\n",
       "TFF1                         0\n",
       "REG1A                      284\n",
       "dtype: int64"
      ]
     },
     "execution_count": 72,
     "metadata": {},
     "output_type": "execute_result"
    }
   ],
   "source": [
    "# to check which column has how many null data\n",
    "data.isnull().sum()"
   ]
  },
  {
   "cell_type": "code",
   "execution_count": 73,
   "metadata": {},
   "outputs": [
    {
     "name": "stdout",
     "output_type": "stream",
     "text": [
      "<class 'pandas.core.frame.DataFrame'>\n",
      "RangeIndex: 590 entries, 0 to 589\n",
      "Data columns (total 14 columns):\n",
      "sample_id                  590 non-null object\n",
      "patient_cohort             590 non-null object\n",
      "sample_origin              590 non-null object\n",
      "age                        590 non-null int64\n",
      "sex                        590 non-null object\n",
      "diagnosis                  590 non-null int64\n",
      "stage                      199 non-null object\n",
      "benign_sample_diagnosis    208 non-null object\n",
      "plasma_CA19_9              350 non-null float64\n",
      "creatinine                 590 non-null float64\n",
      "LYVE1                      590 non-null float64\n",
      "REG1B                      590 non-null float64\n",
      "TFF1                       590 non-null float64\n",
      "REG1A                      306 non-null float64\n",
      "dtypes: float64(6), int64(2), object(6)\n",
      "memory usage: 64.7+ KB\n"
     ]
    }
   ],
   "source": [
    "data.info()"
   ]
  },
  {
   "cell_type": "code",
   "execution_count": 74,
   "metadata": {},
   "outputs": [
    {
     "data": {
      "text/plain": [
       "sample_id                  590\n",
       "patient_cohort               2\n",
       "sample_origin                4\n",
       "age                         63\n",
       "sex                          2\n",
       "diagnosis                    3\n",
       "stage                        8\n",
       "benign_sample_diagnosis     52\n",
       "plasma_CA19_9              266\n",
       "creatinine                 198\n",
       "LYVE1                      535\n",
       "REG1B                      580\n",
       "TFF1                       560\n",
       "REG1A                      298\n",
       "dtype: int64"
      ]
     },
     "execution_count": 74,
     "metadata": {},
     "output_type": "execute_result"
    }
   ],
   "source": [
    "data.nunique()"
   ]
  },
  {
   "cell_type": "code",
   "execution_count": 75,
   "metadata": {},
   "outputs": [],
   "source": [
    "#since there are 590 non unique, it's better to drop that column \n",
    "data = data.drop(columns=['sample_id'])"
   ]
  },
  {
   "cell_type": "markdown",
   "metadata": {},
   "source": [
    "### Division of Data"
   ]
  },
  {
   "cell_type": "code",
   "execution_count": 76,
   "metadata": {},
   "outputs": [],
   "source": [
    "#Since our 1st target value is diagnosis and stage has maximum null vlues hence seprating data into two parts\n",
    "#one data without stage i.e.,diagnosis_data(A) and another data with stage i.e.,stage_data(B) but without diagnosis\n",
    "final_data=data\n",
    "diagnosis_data=final_data.drop('stage',axis=1)\n",
    "stage_data = final_data.drop('diagnosis',axis=1)"
   ]
  },
  {
   "cell_type": "code",
   "execution_count": 77,
   "metadata": {},
   "outputs": [
    {
     "data": {
      "text/plain": [
       "(590, 12)"
      ]
     },
     "execution_count": 77,
     "metadata": {},
     "output_type": "execute_result"
    }
   ],
   "source": [
    "stage_data.shape"
   ]
  },
  {
   "cell_type": "markdown",
   "metadata": {},
   "source": [
    "### Preprocessing and Null Imputation on diagnosis_data"
   ]
  },
  {
   "cell_type": "code",
   "execution_count": 78,
   "metadata": {},
   "outputs": [
    {
     "data": {
      "text/plain": [
       "patient_cohort               0\n",
       "sample_origin                0\n",
       "age                          0\n",
       "sex                          0\n",
       "diagnosis                    0\n",
       "benign_sample_diagnosis    382\n",
       "plasma_CA19_9              240\n",
       "creatinine                   0\n",
       "LYVE1                        0\n",
       "REG1B                        0\n",
       "TFF1                         0\n",
       "REG1A                      284\n",
       "dtype: int64"
      ]
     },
     "execution_count": 78,
     "metadata": {},
     "output_type": "execute_result"
    }
   ],
   "source": [
    "diagnosis_data.isnull().sum()"
   ]
  },
  {
   "cell_type": "code",
   "execution_count": 79,
   "metadata": {
    "scrolled": false
   },
   "outputs": [
    {
     "data": {
      "text/html": [
       "<div>\n",
       "<style scoped>\n",
       "    .dataframe tbody tr th:only-of-type {\n",
       "        vertical-align: middle;\n",
       "    }\n",
       "\n",
       "    .dataframe tbody tr th {\n",
       "        vertical-align: top;\n",
       "    }\n",
       "\n",
       "    .dataframe thead th {\n",
       "        text-align: right;\n",
       "    }\n",
       "</style>\n",
       "<table border=\"1\" class=\"dataframe\">\n",
       "  <thead>\n",
       "    <tr style=\"text-align: right;\">\n",
       "      <th></th>\n",
       "      <th>patient_cohort</th>\n",
       "      <th>sample_origin</th>\n",
       "      <th>age</th>\n",
       "      <th>sex</th>\n",
       "      <th>diagnosis</th>\n",
       "      <th>benign_sample_diagnosis</th>\n",
       "      <th>plasma_CA19_9</th>\n",
       "      <th>creatinine</th>\n",
       "      <th>LYVE1</th>\n",
       "      <th>REG1B</th>\n",
       "      <th>TFF1</th>\n",
       "      <th>REG1A</th>\n",
       "    </tr>\n",
       "  </thead>\n",
       "  <tbody>\n",
       "    <tr>\n",
       "      <td>183</td>\n",
       "      <td>Cohort2</td>\n",
       "      <td>BPTB</td>\n",
       "      <td>32</td>\n",
       "      <td>F</td>\n",
       "      <td>2</td>\n",
       "      <td>Abdominal Pain</td>\n",
       "      <td>12.00</td>\n",
       "      <td>1.164930</td>\n",
       "      <td>5.417692</td>\n",
       "      <td>21.13500</td>\n",
       "      <td>445.72500</td>\n",
       "      <td>NaN</td>\n",
       "    </tr>\n",
       "    <tr>\n",
       "      <td>184</td>\n",
       "      <td>Cohort2</td>\n",
       "      <td>BPTB</td>\n",
       "      <td>59</td>\n",
       "      <td>F</td>\n",
       "      <td>2</td>\n",
       "      <td>Abdominal Pain</td>\n",
       "      <td>NaN</td>\n",
       "      <td>0.418470</td>\n",
       "      <td>0.526248</td>\n",
       "      <td>24.11100</td>\n",
       "      <td>4.09000</td>\n",
       "      <td>NaN</td>\n",
       "    </tr>\n",
       "    <tr>\n",
       "      <td>185</td>\n",
       "      <td>Cohort2</td>\n",
       "      <td>BPTB</td>\n",
       "      <td>65</td>\n",
       "      <td>F</td>\n",
       "      <td>2</td>\n",
       "      <td>Abdominal Pain</td>\n",
       "      <td>NaN</td>\n",
       "      <td>0.361920</td>\n",
       "      <td>2.343091</td>\n",
       "      <td>12.95700</td>\n",
       "      <td>0.02823</td>\n",
       "      <td>NaN</td>\n",
       "    </tr>\n",
       "    <tr>\n",
       "      <td>186</td>\n",
       "      <td>Cohort2</td>\n",
       "      <td>BPTB</td>\n",
       "      <td>39</td>\n",
       "      <td>F</td>\n",
       "      <td>2</td>\n",
       "      <td>Abdominal Pain</td>\n",
       "      <td>NaN</td>\n",
       "      <td>0.893490</td>\n",
       "      <td>0.736352</td>\n",
       "      <td>21.55000</td>\n",
       "      <td>105.94300</td>\n",
       "      <td>NaN</td>\n",
       "    </tr>\n",
       "    <tr>\n",
       "      <td>187</td>\n",
       "      <td>Cohort2</td>\n",
       "      <td>BPTB</td>\n",
       "      <td>65</td>\n",
       "      <td>F</td>\n",
       "      <td>2</td>\n",
       "      <td>Abdominal Pain</td>\n",
       "      <td>13.00</td>\n",
       "      <td>0.373230</td>\n",
       "      <td>0.228904</td>\n",
       "      <td>13.97700</td>\n",
       "      <td>7.36700</td>\n",
       "      <td>NaN</td>\n",
       "    </tr>\n",
       "    <tr>\n",
       "      <td>188</td>\n",
       "      <td>Cohort2</td>\n",
       "      <td>BPTB</td>\n",
       "      <td>59</td>\n",
       "      <td>M</td>\n",
       "      <td>2</td>\n",
       "      <td>Abdominal Pain</td>\n",
       "      <td>49.00</td>\n",
       "      <td>0.746460</td>\n",
       "      <td>4.969500</td>\n",
       "      <td>59.36200</td>\n",
       "      <td>489.46500</td>\n",
       "      <td>NaN</td>\n",
       "    </tr>\n",
       "    <tr>\n",
       "      <td>189</td>\n",
       "      <td>Cohort1</td>\n",
       "      <td>BPTB</td>\n",
       "      <td>52</td>\n",
       "      <td>M</td>\n",
       "      <td>2</td>\n",
       "      <td>Biliary Stricture (Secondary to Stent)</td>\n",
       "      <td>31.62</td>\n",
       "      <td>0.375492</td>\n",
       "      <td>3.711480</td>\n",
       "      <td>215.57942</td>\n",
       "      <td>656.79240</td>\n",
       "      <td>1305.153</td>\n",
       "    </tr>\n",
       "  </tbody>\n",
       "</table>\n",
       "</div>"
      ],
      "text/plain": [
       "    patient_cohort sample_origin  age sex  diagnosis  \\\n",
       "183        Cohort2          BPTB   32   F          2   \n",
       "184        Cohort2          BPTB   59   F          2   \n",
       "185        Cohort2          BPTB   65   F          2   \n",
       "186        Cohort2          BPTB   39   F          2   \n",
       "187        Cohort2          BPTB   65   F          2   \n",
       "188        Cohort2          BPTB   59   M          2   \n",
       "189        Cohort1          BPTB   52   M          2   \n",
       "\n",
       "                     benign_sample_diagnosis  plasma_CA19_9  creatinine  \\\n",
       "183                          Abdominal Pain           12.00    1.164930   \n",
       "184                          Abdominal Pain             NaN    0.418470   \n",
       "185                          Abdominal Pain             NaN    0.361920   \n",
       "186                          Abdominal Pain             NaN    0.893490   \n",
       "187                          Abdominal Pain           13.00    0.373230   \n",
       "188                          Abdominal Pain           49.00    0.746460   \n",
       "189  Biliary Stricture (Secondary to Stent)           31.62    0.375492   \n",
       "\n",
       "        LYVE1      REG1B       TFF1     REG1A  \n",
       "183  5.417692   21.13500  445.72500       NaN  \n",
       "184  0.526248   24.11100    4.09000       NaN  \n",
       "185  2.343091   12.95700    0.02823       NaN  \n",
       "186  0.736352   21.55000  105.94300       NaN  \n",
       "187  0.228904   13.97700    7.36700       NaN  \n",
       "188  4.969500   59.36200  489.46500       NaN  \n",
       "189  3.711480  215.57942  656.79240  1305.153  "
      ]
     },
     "execution_count": 79,
     "metadata": {},
     "output_type": "execute_result"
    }
   ],
   "source": [
    "#Analysing benign_sample_diagnosis\n",
    "diagnosis_data[diagnosis_data.benign_sample_diagnosis.isnull()==False].head(7)"
   ]
  },
  {
   "cell_type": "code",
   "execution_count": 80,
   "metadata": {},
   "outputs": [],
   "source": [
    "#There are many null values hence droping it\n",
    "# diagnosis_data = diagnosis_data.drop(columns=['benign_sample_diagnosis'])\n",
    "diagnosis_data = diagnosis_data.drop(columns=['benign_sample_diagnosis','plasma_CA19_9','REG1A'])"
   ]
  },
  {
   "cell_type": "code",
   "execution_count": 81,
   "metadata": {},
   "outputs": [
    {
     "data": {
      "text/plain": [
       "(590, 9)"
      ]
     },
     "execution_count": 81,
     "metadata": {},
     "output_type": "execute_result"
    }
   ],
   "source": [
    "diagnosis_data.shape"
   ]
  },
  {
   "cell_type": "markdown",
   "metadata": {},
   "source": [
    "### Spliting data into train test"
   ]
  },
  {
   "cell_type": "code",
   "execution_count": 82,
   "metadata": {},
   "outputs": [],
   "source": [
    "# Converting the main_train into X and y so that we can pass it onto train_test_split function\n",
    "# ind --> contains the dataframe without the target i.e diagnosis which are the independent varibles\n",
    "ind_diagnosis_data = diagnosis_data.drop('diagnosis',axis=1)\n",
    "# dep --> contains only the target value \n",
    "dep_diagnosis_data = diagnosis_data['diagnosis']"
   ]
  },
  {
   "cell_type": "markdown",
   "metadata": {},
   "source": [
    "## Feature Engeeneering"
   ]
  },
  {
   "cell_type": "markdown",
   "metadata": {},
   "source": [
    "### Encoding"
   ]
  },
  {
   "cell_type": "code",
   "execution_count": 83,
   "metadata": {},
   "outputs": [],
   "source": [
    "#Encoding diagnosis in such a way that people with pancreatic cancer is 1 else 0\n",
    "L=len(dep_diagnosis_data)\n",
    "for i in range(L):\n",
    "    if dep_diagnosis_data[i]==3:\n",
    "        dep_diagnosis_data[i]=1\n",
    "    else:\n",
    "        dep_diagnosis_data[i]=0\n",
    "        "
   ]
  },
  {
   "cell_type": "code",
   "execution_count": 84,
   "metadata": {},
   "outputs": [
    {
     "data": {
      "text/plain": [
       "585    1\n",
       "586    1\n",
       "587    1\n",
       "588    1\n",
       "589    1\n",
       "Name: diagnosis, dtype: int64"
      ]
     },
     "execution_count": 84,
     "metadata": {},
     "output_type": "execute_result"
    }
   ],
   "source": [
    "dep_diagnosis_data.tail()"
   ]
  },
  {
   "cell_type": "markdown",
   "metadata": {},
   "source": [
    "### Label Encoding"
   ]
  },
  {
   "cell_type": "code",
   "execution_count": 85,
   "metadata": {},
   "outputs": [],
   "source": [
    "sex = LabelEncoder()\n",
    "sex.fit(ind_diagnosis_data['sex'])\n",
    "ind_diagnosis_data['sex'] = sex.transform(ind_diagnosis_data['sex'])"
   ]
  },
  {
   "cell_type": "code",
   "execution_count": 86,
   "metadata": {},
   "outputs": [
    {
     "data": {
      "text/html": [
       "<div>\n",
       "<style scoped>\n",
       "    .dataframe tbody tr th:only-of-type {\n",
       "        vertical-align: middle;\n",
       "    }\n",
       "\n",
       "    .dataframe tbody tr th {\n",
       "        vertical-align: top;\n",
       "    }\n",
       "\n",
       "    .dataframe thead th {\n",
       "        text-align: right;\n",
       "    }\n",
       "</style>\n",
       "<table border=\"1\" class=\"dataframe\">\n",
       "  <thead>\n",
       "    <tr style=\"text-align: right;\">\n",
       "      <th></th>\n",
       "      <th>patient_cohort</th>\n",
       "      <th>sample_origin</th>\n",
       "      <th>age</th>\n",
       "      <th>sex</th>\n",
       "      <th>creatinine</th>\n",
       "      <th>LYVE1</th>\n",
       "      <th>REG1B</th>\n",
       "      <th>TFF1</th>\n",
       "    </tr>\n",
       "  </thead>\n",
       "  <tbody>\n",
       "    <tr>\n",
       "      <td>0</td>\n",
       "      <td>Cohort1</td>\n",
       "      <td>BPTB</td>\n",
       "      <td>33</td>\n",
       "      <td>0</td>\n",
       "      <td>1.83222</td>\n",
       "      <td>0.893219</td>\n",
       "      <td>52.94884</td>\n",
       "      <td>654.282174</td>\n",
       "    </tr>\n",
       "    <tr>\n",
       "      <td>1</td>\n",
       "      <td>Cohort1</td>\n",
       "      <td>BPTB</td>\n",
       "      <td>81</td>\n",
       "      <td>0</td>\n",
       "      <td>0.97266</td>\n",
       "      <td>2.037585</td>\n",
       "      <td>94.46703</td>\n",
       "      <td>209.488250</td>\n",
       "    </tr>\n",
       "    <tr>\n",
       "      <td>2</td>\n",
       "      <td>Cohort2</td>\n",
       "      <td>BPTB</td>\n",
       "      <td>51</td>\n",
       "      <td>1</td>\n",
       "      <td>0.78039</td>\n",
       "      <td>0.145589</td>\n",
       "      <td>102.36600</td>\n",
       "      <td>461.141000</td>\n",
       "    </tr>\n",
       "    <tr>\n",
       "      <td>3</td>\n",
       "      <td>Cohort2</td>\n",
       "      <td>BPTB</td>\n",
       "      <td>61</td>\n",
       "      <td>1</td>\n",
       "      <td>0.70122</td>\n",
       "      <td>0.002805</td>\n",
       "      <td>60.57900</td>\n",
       "      <td>142.950000</td>\n",
       "    </tr>\n",
       "    <tr>\n",
       "      <td>4</td>\n",
       "      <td>Cohort2</td>\n",
       "      <td>BPTB</td>\n",
       "      <td>62</td>\n",
       "      <td>1</td>\n",
       "      <td>0.21489</td>\n",
       "      <td>0.000860</td>\n",
       "      <td>65.54000</td>\n",
       "      <td>41.088000</td>\n",
       "    </tr>\n",
       "  </tbody>\n",
       "</table>\n",
       "</div>"
      ],
      "text/plain": [
       "  patient_cohort sample_origin  age  sex  creatinine     LYVE1      REG1B  \\\n",
       "0        Cohort1          BPTB   33    0     1.83222  0.893219   52.94884   \n",
       "1        Cohort1          BPTB   81    0     0.97266  2.037585   94.46703   \n",
       "2        Cohort2          BPTB   51    1     0.78039  0.145589  102.36600   \n",
       "3        Cohort2          BPTB   61    1     0.70122  0.002805   60.57900   \n",
       "4        Cohort2          BPTB   62    1     0.21489  0.000860   65.54000   \n",
       "\n",
       "         TFF1  \n",
       "0  654.282174  \n",
       "1  209.488250  \n",
       "2  461.141000  \n",
       "3  142.950000  \n",
       "4   41.088000  "
      ]
     },
     "execution_count": 86,
     "metadata": {},
     "output_type": "execute_result"
    }
   ],
   "source": [
    "ind_diagnosis_data.head()"
   ]
  },
  {
   "cell_type": "code",
   "execution_count": 87,
   "metadata": {},
   "outputs": [],
   "source": [
    "# We are keeping sample origin so that model get's data about diversity\n",
    "# patient_cohort = LabelEncoder()\n",
    "# patient_cohort.fit(ind_diagnosis_data['patient_cohort'])\n",
    "# ind_diagnosis_data['patient_cohort'] = patient_cohort.transform(ind_diagnosis_data['patient_cohort'])"
   ]
  },
  {
   "cell_type": "markdown",
   "metadata": {},
   "source": [
    "### Ordinal Encoding"
   ]
  },
  {
   "cell_type": "code",
   "execution_count": 88,
   "metadata": {},
   "outputs": [],
   "source": [
    "#We are keeping sample origin so that model get's data about diversity\n",
    "patient_cohort = OrdinalEncoder()\n",
    "# patient_cohort.fit(ind_diagnosis_data['patient_cohort'])\n",
    "\n",
    "ind_diagnosis_data[\"patient_cohort\"] = patient_cohort.fit_transform(ind_diagnosis_data[[\"patient_cohort\"]])\n",
    "# ind_diagnosis_data['patient_cohort'] = patient_cohort.transform(ind_diagnosis_data['patient_cohort'])"
   ]
  },
  {
   "cell_type": "code",
   "execution_count": 89,
   "metadata": {},
   "outputs": [],
   "source": [
    "sample_origin = OrdinalEncoder()\n",
    "ind_diagnosis_data[\"sample_origin\"] = sample_origin.fit_transform(ind_diagnosis_data[[\"sample_origin\"]])"
   ]
  },
  {
   "cell_type": "code",
   "execution_count": 90,
   "metadata": {},
   "outputs": [
    {
     "data": {
      "text/html": [
       "<div>\n",
       "<style scoped>\n",
       "    .dataframe tbody tr th:only-of-type {\n",
       "        vertical-align: middle;\n",
       "    }\n",
       "\n",
       "    .dataframe tbody tr th {\n",
       "        vertical-align: top;\n",
       "    }\n",
       "\n",
       "    .dataframe thead th {\n",
       "        text-align: right;\n",
       "    }\n",
       "</style>\n",
       "<table border=\"1\" class=\"dataframe\">\n",
       "  <thead>\n",
       "    <tr style=\"text-align: right;\">\n",
       "      <th></th>\n",
       "      <th>patient_cohort</th>\n",
       "      <th>sample_origin</th>\n",
       "      <th>age</th>\n",
       "      <th>sex</th>\n",
       "      <th>creatinine</th>\n",
       "      <th>LYVE1</th>\n",
       "      <th>REG1B</th>\n",
       "      <th>TFF1</th>\n",
       "    </tr>\n",
       "  </thead>\n",
       "  <tbody>\n",
       "    <tr>\n",
       "      <td>585</td>\n",
       "      <td>1.0</td>\n",
       "      <td>0.0</td>\n",
       "      <td>68</td>\n",
       "      <td>1</td>\n",
       "      <td>0.52026</td>\n",
       "      <td>7.058209</td>\n",
       "      <td>156.241000</td>\n",
       "      <td>525.178000</td>\n",
       "    </tr>\n",
       "    <tr>\n",
       "      <td>586</td>\n",
       "      <td>1.0</td>\n",
       "      <td>0.0</td>\n",
       "      <td>71</td>\n",
       "      <td>0</td>\n",
       "      <td>0.85956</td>\n",
       "      <td>8.341207</td>\n",
       "      <td>16.915000</td>\n",
       "      <td>245.947000</td>\n",
       "    </tr>\n",
       "    <tr>\n",
       "      <td>587</td>\n",
       "      <td>1.0</td>\n",
       "      <td>0.0</td>\n",
       "      <td>63</td>\n",
       "      <td>1</td>\n",
       "      <td>1.36851</td>\n",
       "      <td>7.674707</td>\n",
       "      <td>289.701000</td>\n",
       "      <td>537.286000</td>\n",
       "    </tr>\n",
       "    <tr>\n",
       "      <td>588</td>\n",
       "      <td>1.0</td>\n",
       "      <td>0.0</td>\n",
       "      <td>75</td>\n",
       "      <td>0</td>\n",
       "      <td>1.33458</td>\n",
       "      <td>8.206777</td>\n",
       "      <td>205.930000</td>\n",
       "      <td>722.523000</td>\n",
       "    </tr>\n",
       "    <tr>\n",
       "      <td>589</td>\n",
       "      <td>0.0</td>\n",
       "      <td>0.0</td>\n",
       "      <td>74</td>\n",
       "      <td>1</td>\n",
       "      <td>1.50423</td>\n",
       "      <td>8.200958</td>\n",
       "      <td>411.938275</td>\n",
       "      <td>2021.321078</td>\n",
       "    </tr>\n",
       "  </tbody>\n",
       "</table>\n",
       "</div>"
      ],
      "text/plain": [
       "     patient_cohort  sample_origin  age  sex  creatinine     LYVE1  \\\n",
       "585             1.0            0.0   68    1     0.52026  7.058209   \n",
       "586             1.0            0.0   71    0     0.85956  8.341207   \n",
       "587             1.0            0.0   63    1     1.36851  7.674707   \n",
       "588             1.0            0.0   75    0     1.33458  8.206777   \n",
       "589             0.0            0.0   74    1     1.50423  8.200958   \n",
       "\n",
       "          REG1B         TFF1  \n",
       "585  156.241000   525.178000  \n",
       "586   16.915000   245.947000  \n",
       "587  289.701000   537.286000  \n",
       "588  205.930000   722.523000  \n",
       "589  411.938275  2021.321078  "
      ]
     },
     "execution_count": 90,
     "metadata": {},
     "output_type": "execute_result"
    }
   ],
   "source": [
    "ind_diagnosis_data.tail()"
   ]
  },
  {
   "cell_type": "code",
   "execution_count": 91,
   "metadata": {},
   "outputs": [
    {
     "data": {
      "text/plain": [
       "patient_cohort      2\n",
       "sample_origin       4\n",
       "age                63\n",
       "sex                 2\n",
       "creatinine        198\n",
       "LYVE1             535\n",
       "REG1B             580\n",
       "TFF1              560\n",
       "dtype: int64"
      ]
     },
     "execution_count": 91,
     "metadata": {},
     "output_type": "execute_result"
    }
   ],
   "source": [
    "ind_diagnosis_data.nunique()"
   ]
  },
  {
   "cell_type": "code",
   "execution_count": 92,
   "metadata": {},
   "outputs": [
    {
     "data": {
      "text/plain": [
       "array([0., 2., 1., 3.])"
      ]
     },
     "execution_count": 92,
     "metadata": {},
     "output_type": "execute_result"
    }
   ],
   "source": [
    "ind_diagnosis_data.sample_origin.unique()"
   ]
  },
  {
   "cell_type": "code",
   "execution_count": 93,
   "metadata": {},
   "outputs": [],
   "source": [
    "sample_origin = OrdinalEncoder()\n",
    "ind_diagnosis_data[\"sample_origin\"] = sample_origin.fit_transform(ind_diagnosis_data[[\"sample_origin\"]])"
   ]
  },
  {
   "cell_type": "code",
   "execution_count": 94,
   "metadata": {},
   "outputs": [
    {
     "data": {
      "text/html": [
       "<div>\n",
       "<style scoped>\n",
       "    .dataframe tbody tr th:only-of-type {\n",
       "        vertical-align: middle;\n",
       "    }\n",
       "\n",
       "    .dataframe tbody tr th {\n",
       "        vertical-align: top;\n",
       "    }\n",
       "\n",
       "    .dataframe thead th {\n",
       "        text-align: right;\n",
       "    }\n",
       "</style>\n",
       "<table border=\"1\" class=\"dataframe\">\n",
       "  <thead>\n",
       "    <tr style=\"text-align: right;\">\n",
       "      <th></th>\n",
       "      <th>patient_cohort</th>\n",
       "      <th>sample_origin</th>\n",
       "      <th>age</th>\n",
       "      <th>sex</th>\n",
       "      <th>creatinine</th>\n",
       "      <th>LYVE1</th>\n",
       "      <th>REG1B</th>\n",
       "      <th>TFF1</th>\n",
       "    </tr>\n",
       "  </thead>\n",
       "  <tbody>\n",
       "    <tr>\n",
       "      <td>0</td>\n",
       "      <td>0.0</td>\n",
       "      <td>0.0</td>\n",
       "      <td>33</td>\n",
       "      <td>0</td>\n",
       "      <td>1.83222</td>\n",
       "      <td>0.893219</td>\n",
       "      <td>52.94884</td>\n",
       "      <td>654.282174</td>\n",
       "    </tr>\n",
       "    <tr>\n",
       "      <td>1</td>\n",
       "      <td>0.0</td>\n",
       "      <td>0.0</td>\n",
       "      <td>81</td>\n",
       "      <td>0</td>\n",
       "      <td>0.97266</td>\n",
       "      <td>2.037585</td>\n",
       "      <td>94.46703</td>\n",
       "      <td>209.488250</td>\n",
       "    </tr>\n",
       "    <tr>\n",
       "      <td>2</td>\n",
       "      <td>1.0</td>\n",
       "      <td>0.0</td>\n",
       "      <td>51</td>\n",
       "      <td>1</td>\n",
       "      <td>0.78039</td>\n",
       "      <td>0.145589</td>\n",
       "      <td>102.36600</td>\n",
       "      <td>461.141000</td>\n",
       "    </tr>\n",
       "    <tr>\n",
       "      <td>3</td>\n",
       "      <td>1.0</td>\n",
       "      <td>0.0</td>\n",
       "      <td>61</td>\n",
       "      <td>1</td>\n",
       "      <td>0.70122</td>\n",
       "      <td>0.002805</td>\n",
       "      <td>60.57900</td>\n",
       "      <td>142.950000</td>\n",
       "    </tr>\n",
       "    <tr>\n",
       "      <td>4</td>\n",
       "      <td>1.0</td>\n",
       "      <td>0.0</td>\n",
       "      <td>62</td>\n",
       "      <td>1</td>\n",
       "      <td>0.21489</td>\n",
       "      <td>0.000860</td>\n",
       "      <td>65.54000</td>\n",
       "      <td>41.088000</td>\n",
       "    </tr>\n",
       "  </tbody>\n",
       "</table>\n",
       "</div>"
      ],
      "text/plain": [
       "   patient_cohort  sample_origin  age  sex  creatinine     LYVE1      REG1B  \\\n",
       "0             0.0            0.0   33    0     1.83222  0.893219   52.94884   \n",
       "1             0.0            0.0   81    0     0.97266  2.037585   94.46703   \n",
       "2             1.0            0.0   51    1     0.78039  0.145589  102.36600   \n",
       "3             1.0            0.0   61    1     0.70122  0.002805   60.57900   \n",
       "4             1.0            0.0   62    1     0.21489  0.000860   65.54000   \n",
       "\n",
       "         TFF1  \n",
       "0  654.282174  \n",
       "1  209.488250  \n",
       "2  461.141000  \n",
       "3  142.950000  \n",
       "4   41.088000  "
      ]
     },
     "execution_count": 94,
     "metadata": {},
     "output_type": "execute_result"
    }
   ],
   "source": [
    "#Filling all null values with mean\n",
    "for i in ind_diagnosis_data[2:]:\n",
    "    if i!='sex':\n",
    "        ind_diagnosis_data[i] = ind_diagnosis_data[i].fillna(ind_diagnosis_data[i].mean())\n",
    "ind_diagnosis_data.head()"
   ]
  },
  {
   "cell_type": "markdown",
   "metadata": {},
   "source": [
    "## Modeling"
   ]
  },
  {
   "cell_type": "markdown",
   "metadata": {},
   "source": [
    "### SVM"
   ]
  },
  {
   "cell_type": "code",
   "execution_count": 95,
   "metadata": {},
   "outputs": [
    {
     "name": "stdout",
     "output_type": "stream",
     "text": [
      "Test set score: 0.6610169491525424\n"
     ]
    }
   ],
   "source": [
    "from sklearn import svm\n",
    "from sklearn.model_selection import train_test_split\n",
    "import sklearn.metrics as sm\n",
    "\n",
    "clf = svm.SVC()\n",
    "\n",
    "X_train, X_test, y_train, y_test = train_test_split(ind_diagnosis_data,dep_diagnosis_data,test_size=0.2)#between 80% and 20%\n",
    "\n",
    "SVM = clf.fit(X_train, y_train)\n",
    "\n",
    "score = SVM.score(X_test, y_test)\n",
    "print('Test set score: {}'.format(score))"
   ]
  },
  {
   "cell_type": "code",
   "execution_count": 96,
   "metadata": {},
   "outputs": [],
   "source": [
    "predicte = clf.predict(X_test)"
   ]
  },
  {
   "cell_type": "code",
   "execution_count": 97,
   "metadata": {},
   "outputs": [
    {
     "name": "stdout",
     "output_type": "stream",
     "text": [
      "R2 score = -0.51\n",
      "Accuracy=  0.6610169491525424\n"
     ]
    }
   ],
   "source": [
    "print(\"R2 score =\", round(sm.r2_score(y_test, predicte), 2))\n",
    "print(\"Accuracy= \", clf.score(X_test,y_test))"
   ]
  },
  {
   "cell_type": "code",
   "execution_count": 98,
   "metadata": {},
   "outputs": [
    {
     "data": {
      "text/html": [
       "<div>\n",
       "<style scoped>\n",
       "    .dataframe tbody tr th:only-of-type {\n",
       "        vertical-align: middle;\n",
       "    }\n",
       "\n",
       "    .dataframe tbody tr th {\n",
       "        vertical-align: top;\n",
       "    }\n",
       "\n",
       "    .dataframe thead th {\n",
       "        text-align: right;\n",
       "    }\n",
       "</style>\n",
       "<table border=\"1\" class=\"dataframe\">\n",
       "  <thead>\n",
       "    <tr style=\"text-align: right;\">\n",
       "      <th></th>\n",
       "      <th>patient_cohort</th>\n",
       "      <th>sample_origin</th>\n",
       "      <th>age</th>\n",
       "      <th>sex</th>\n",
       "      <th>creatinine</th>\n",
       "      <th>LYVE1</th>\n",
       "      <th>REG1B</th>\n",
       "      <th>TFF1</th>\n",
       "    </tr>\n",
       "  </thead>\n",
       "  <tbody>\n",
       "    <tr>\n",
       "      <td>11</td>\n",
       "      <td>1.0</td>\n",
       "      <td>0.0</td>\n",
       "      <td>71</td>\n",
       "      <td>1</td>\n",
       "      <td>1.051830</td>\n",
       "      <td>0.860337</td>\n",
       "      <td>243.0820</td>\n",
       "      <td>608.284000</td>\n",
       "    </tr>\n",
       "    <tr>\n",
       "      <td>295</td>\n",
       "      <td>0.0</td>\n",
       "      <td>0.0</td>\n",
       "      <td>46</td>\n",
       "      <td>0</td>\n",
       "      <td>0.368706</td>\n",
       "      <td>7.029876</td>\n",
       "      <td>0.6146</td>\n",
       "      <td>124.428225</td>\n",
       "    </tr>\n",
       "    <tr>\n",
       "      <td>561</td>\n",
       "      <td>1.0</td>\n",
       "      <td>0.0</td>\n",
       "      <td>75</td>\n",
       "      <td>1</td>\n",
       "      <td>0.735150</td>\n",
       "      <td>2.724380</td>\n",
       "      <td>183.8790</td>\n",
       "      <td>1383.490000</td>\n",
       "    </tr>\n",
       "    <tr>\n",
       "      <td>587</td>\n",
       "      <td>1.0</td>\n",
       "      <td>0.0</td>\n",
       "      <td>63</td>\n",
       "      <td>1</td>\n",
       "      <td>1.368510</td>\n",
       "      <td>7.674707</td>\n",
       "      <td>289.7010</td>\n",
       "      <td>537.286000</td>\n",
       "    </tr>\n",
       "    <tr>\n",
       "      <td>356</td>\n",
       "      <td>1.0</td>\n",
       "      <td>0.0</td>\n",
       "      <td>52</td>\n",
       "      <td>0</td>\n",
       "      <td>0.339300</td>\n",
       "      <td>0.001357</td>\n",
       "      <td>0.2930</td>\n",
       "      <td>73.736000</td>\n",
       "    </tr>\n",
       "  </tbody>\n",
       "</table>\n",
       "</div>"
      ],
      "text/plain": [
       "     patient_cohort  sample_origin  age  sex  creatinine     LYVE1     REG1B  \\\n",
       "11              1.0            0.0   71    1    1.051830  0.860337  243.0820   \n",
       "295             0.0            0.0   46    0    0.368706  7.029876    0.6146   \n",
       "561             1.0            0.0   75    1    0.735150  2.724380  183.8790   \n",
       "587             1.0            0.0   63    1    1.368510  7.674707  289.7010   \n",
       "356             1.0            0.0   52    0    0.339300  0.001357    0.2930   \n",
       "\n",
       "            TFF1  \n",
       "11    608.284000  \n",
       "295   124.428225  \n",
       "561  1383.490000  \n",
       "587   537.286000  \n",
       "356    73.736000  "
      ]
     },
     "execution_count": 98,
     "metadata": {},
     "output_type": "execute_result"
    }
   ],
   "source": [
    "#clearly there is good accuracy\n",
    "X_train.head()"
   ]
  },
  {
   "cell_type": "code",
   "execution_count": 99,
   "metadata": {},
   "outputs": [
    {
     "data": {
      "text/html": [
       "<div>\n",
       "<style scoped>\n",
       "    .dataframe tbody tr th:only-of-type {\n",
       "        vertical-align: middle;\n",
       "    }\n",
       "\n",
       "    .dataframe tbody tr th {\n",
       "        vertical-align: top;\n",
       "    }\n",
       "\n",
       "    .dataframe thead th {\n",
       "        text-align: right;\n",
       "    }\n",
       "</style>\n",
       "<table border=\"1\" class=\"dataframe\">\n",
       "  <thead>\n",
       "    <tr style=\"text-align: right;\">\n",
       "      <th></th>\n",
       "      <th>patient_cohort</th>\n",
       "      <th>sample_origin</th>\n",
       "      <th>age</th>\n",
       "      <th>sex</th>\n",
       "      <th>creatinine</th>\n",
       "      <th>LYVE1</th>\n",
       "      <th>REG1B</th>\n",
       "      <th>TFF1</th>\n",
       "    </tr>\n",
       "  </thead>\n",
       "  <tbody>\n",
       "    <tr>\n",
       "      <td>407</td>\n",
       "      <td>0.0</td>\n",
       "      <td>1.0</td>\n",
       "      <td>69</td>\n",
       "      <td>0</td>\n",
       "      <td>0.56550</td>\n",
       "      <td>7.849105</td>\n",
       "      <td>267.856820</td>\n",
       "      <td>1063.949000</td>\n",
       "    </tr>\n",
       "    <tr>\n",
       "      <td>514</td>\n",
       "      <td>0.0</td>\n",
       "      <td>2.0</td>\n",
       "      <td>77</td>\n",
       "      <td>0</td>\n",
       "      <td>0.21489</td>\n",
       "      <td>1.712249</td>\n",
       "      <td>20.536467</td>\n",
       "      <td>232.715800</td>\n",
       "    </tr>\n",
       "    <tr>\n",
       "      <td>32</td>\n",
       "      <td>1.0</td>\n",
       "      <td>0.0</td>\n",
       "      <td>44</td>\n",
       "      <td>0</td>\n",
       "      <td>1.17624</td>\n",
       "      <td>4.239308</td>\n",
       "      <td>7.620000</td>\n",
       "      <td>436.361000</td>\n",
       "    </tr>\n",
       "    <tr>\n",
       "      <td>540</td>\n",
       "      <td>0.0</td>\n",
       "      <td>1.0</td>\n",
       "      <td>62</td>\n",
       "      <td>1</td>\n",
       "      <td>0.75777</td>\n",
       "      <td>9.325072</td>\n",
       "      <td>246.670200</td>\n",
       "      <td>994.924100</td>\n",
       "    </tr>\n",
       "    <tr>\n",
       "      <td>116</td>\n",
       "      <td>0.0</td>\n",
       "      <td>0.0</td>\n",
       "      <td>51</td>\n",
       "      <td>1</td>\n",
       "      <td>0.84825</td>\n",
       "      <td>3.629087</td>\n",
       "      <td>2.917572</td>\n",
       "      <td>213.542133</td>\n",
       "    </tr>\n",
       "  </tbody>\n",
       "</table>\n",
       "</div>"
      ],
      "text/plain": [
       "     patient_cohort  sample_origin  age  sex  creatinine     LYVE1  \\\n",
       "407             0.0            1.0   69    0     0.56550  7.849105   \n",
       "514             0.0            2.0   77    0     0.21489  1.712249   \n",
       "32              1.0            0.0   44    0     1.17624  4.239308   \n",
       "540             0.0            1.0   62    1     0.75777  9.325072   \n",
       "116             0.0            0.0   51    1     0.84825  3.629087   \n",
       "\n",
       "          REG1B         TFF1  \n",
       "407  267.856820  1063.949000  \n",
       "514   20.536467   232.715800  \n",
       "32     7.620000   436.361000  \n",
       "540  246.670200   994.924100  \n",
       "116    2.917572   213.542133  "
      ]
     },
     "execution_count": 99,
     "metadata": {},
     "output_type": "execute_result"
    }
   ],
   "source": [
    "X_test.head()"
   ]
  },
  {
   "cell_type": "code",
   "execution_count": 100,
   "metadata": {},
   "outputs": [
    {
     "data": {
      "text/plain": [
       "585    1\n",
       "586    1\n",
       "587    1\n",
       "588    1\n",
       "589    1\n",
       "Name: diagnosis, dtype: int64"
      ]
     },
     "execution_count": 100,
     "metadata": {},
     "output_type": "execute_result"
    }
   ],
   "source": [
    "dep_diagnosis_data.tail()"
   ]
  },
  {
   "cell_type": "code",
   "execution_count": 101,
   "metadata": {},
   "outputs": [],
   "source": [
    "#prediction using svm\n",
    "# clf.predict()\n",
    "#passing x dataframe for prediction of y\n",
    "diagnosis_predict_arr = clf.predict(X_test)"
   ]
  },
  {
   "cell_type": "code",
   "execution_count": 102,
   "metadata": {},
   "outputs": [
    {
     "data": {
      "text/plain": [
       "array([0, 0, 0, 0, 0, 0, 0, 0, 0, 0, 0, 0, 0, 0, 0, 0, 0, 0, 0, 0, 0, 0,\n",
       "       0, 0, 0, 0, 0, 0, 0, 0, 0, 0, 0, 0, 0, 0, 0, 0, 0, 0, 0, 0, 0, 0,\n",
       "       0, 0, 0, 0, 0, 0, 0, 0, 0, 0, 0, 0, 0, 0, 0, 0, 0, 0, 0, 0, 0, 0,\n",
       "       0, 0, 0, 0, 0, 0, 0, 0, 0, 0, 0, 0, 0, 0, 0, 0, 0, 0, 0, 0, 0, 0,\n",
       "       0, 0, 0, 0, 0, 0, 0, 0, 0, 0, 0, 0, 0, 0, 0, 0, 0, 0, 0, 0, 0, 0,\n",
       "       0, 0, 0, 0, 0, 0, 0, 0], dtype=int64)"
      ]
     },
     "execution_count": 102,
     "metadata": {},
     "output_type": "execute_result"
    }
   ],
   "source": [
    "diagnosis_predict_arr"
   ]
  },
  {
   "cell_type": "code",
   "execution_count": 103,
   "metadata": {},
   "outputs": [],
   "source": [
    "diagnosis_predict=  pd.DataFrame(zip(diagnosis_predict_arr,y_test),columns=['Predicted_diagnosis','Actuals'])"
   ]
  },
  {
   "cell_type": "code",
   "execution_count": 104,
   "metadata": {},
   "outputs": [
    {
     "data": {
      "text/html": [
       "<div>\n",
       "<style scoped>\n",
       "    .dataframe tbody tr th:only-of-type {\n",
       "        vertical-align: middle;\n",
       "    }\n",
       "\n",
       "    .dataframe tbody tr th {\n",
       "        vertical-align: top;\n",
       "    }\n",
       "\n",
       "    .dataframe thead th {\n",
       "        text-align: right;\n",
       "    }\n",
       "</style>\n",
       "<table border=\"1\" class=\"dataframe\">\n",
       "  <thead>\n",
       "    <tr style=\"text-align: right;\">\n",
       "      <th></th>\n",
       "      <th>Predicted_diagnosis</th>\n",
       "      <th>Actuals</th>\n",
       "    </tr>\n",
       "  </thead>\n",
       "  <tbody>\n",
       "    <tr>\n",
       "      <td>0</td>\n",
       "      <td>0</td>\n",
       "      <td>1</td>\n",
       "    </tr>\n",
       "    <tr>\n",
       "      <td>1</td>\n",
       "      <td>0</td>\n",
       "      <td>1</td>\n",
       "    </tr>\n",
       "    <tr>\n",
       "      <td>2</td>\n",
       "      <td>0</td>\n",
       "      <td>0</td>\n",
       "    </tr>\n",
       "    <tr>\n",
       "      <td>3</td>\n",
       "      <td>0</td>\n",
       "      <td>1</td>\n",
       "    </tr>\n",
       "    <tr>\n",
       "      <td>4</td>\n",
       "      <td>0</td>\n",
       "      <td>0</td>\n",
       "    </tr>\n",
       "  </tbody>\n",
       "</table>\n",
       "</div>"
      ],
      "text/plain": [
       "   Predicted_diagnosis  Actuals\n",
       "0                    0        1\n",
       "1                    0        1\n",
       "2                    0        0\n",
       "3                    0        1\n",
       "4                    0        0"
      ]
     },
     "execution_count": 104,
     "metadata": {},
     "output_type": "execute_result"
    }
   ],
   "source": [
    "diagnosis_predict.head()"
   ]
  },
  {
   "cell_type": "code",
   "execution_count": null,
   "metadata": {},
   "outputs": [],
   "source": []
  },
  {
   "cell_type": "markdown",
   "metadata": {},
   "source": [
    "### Random Forest"
   ]
  },
  {
   "cell_type": "code",
   "execution_count": 105,
   "metadata": {},
   "outputs": [],
   "source": [
    "from sklearn.ensemble import RandomForestRegressor\n",
    "clf2 = RandomForestRegressor(n_estimators=5000)\n",
    "clf2.fit(X_train, y_train)\n",
    "\n",
    "# Predicting the Validation Set Results\n",
    "predicted3 = clf2.predict(X_test)"
   ]
  },
  {
   "cell_type": "code",
   "execution_count": 106,
   "metadata": {},
   "outputs": [
    {
     "name": "stdout",
     "output_type": "stream",
     "text": [
      "R2 score = 0.4\n",
      "Accuracy=  0.3967771257435896\n"
     ]
    }
   ],
   "source": [
    "print(\"R2 score =\", round(sm.r2_score(y_test, predicted3), 2))\n",
    "print(\"Accuracy= \", clf2.score(X_test,y_test))"
   ]
  },
  {
   "cell_type": "code",
   "execution_count": 107,
   "metadata": {},
   "outputs": [],
   "source": [
    "#prediction using random Forest\n",
    "# clf.predict()\n",
    "#passing x dataframe for prediction of y\n",
    "diagnosis_predict_arr1 = clf2.predict(X_test)"
   ]
  },
  {
   "cell_type": "code",
   "execution_count": 108,
   "metadata": {},
   "outputs": [
    {
     "data": {
      "text/plain": [
       "array([9.204e-01, 8.996e-01, 1.118e-01, 9.720e-01, 1.094e-01, 6.212e-01,\n",
       "       1.400e-03, 4.930e-01, 4.818e-01, 7.020e-01, 5.100e-02, 9.284e-01,\n",
       "       7.892e-01, 6.000e-04, 9.000e-03, 4.600e-01, 9.258e-01, 6.000e-03,\n",
       "       2.912e-01, 6.200e-03, 8.176e-01, 7.400e-03, 9.760e-01, 2.400e-03,\n",
       "       8.954e-01, 1.200e-03, 8.148e-01, 3.164e-01, 3.738e-01, 6.392e-01,\n",
       "       6.200e-03, 2.110e-01, 7.716e-01, 3.524e-01, 5.846e-01, 4.052e-01,\n",
       "       8.970e-01, 4.396e-01, 2.800e-03, 2.412e-01, 1.644e-01, 6.792e-01,\n",
       "       2.000e-04, 0.000e+00, 8.020e-01, 7.400e-03, 9.400e-03, 3.880e-01,\n",
       "       1.000e-03, 9.600e-01, 0.000e+00, 1.030e-01, 3.560e-02, 2.338e-01,\n",
       "       4.000e-04, 1.520e-02, 1.450e-01, 2.000e-04, 3.242e-01, 4.056e-01,\n",
       "       6.360e-01, 9.474e-01, 3.224e-01, 8.294e-01, 1.640e-02, 7.830e-01,\n",
       "       0.000e+00, 6.164e-01, 3.760e-01, 1.040e-02, 9.934e-01, 3.646e-01,\n",
       "       9.906e-01, 9.580e-02, 9.140e-02, 4.200e-03, 6.380e-02, 3.476e-01,\n",
       "       4.340e-02, 8.592e-01, 1.804e-01, 4.000e-04, 5.818e-01, 2.130e-01,\n",
       "       6.542e-01, 5.428e-01, 4.626e-01, 1.000e-03, 1.324e-01, 4.200e-03,\n",
       "       4.000e-03, 7.704e-01, 8.452e-01, 6.336e-01, 3.140e-02, 1.432e-01,\n",
       "       0.000e+00, 9.888e-01, 2.000e-04, 5.640e-02, 1.080e-02, 2.940e-01,\n",
       "       2.740e-02, 7.452e-01, 2.150e-01, 3.400e-03, 3.720e-02, 9.586e-01,\n",
       "       5.752e-01, 0.000e+00, 4.004e-01, 2.400e-03, 9.886e-01, 7.224e-01,\n",
       "       3.716e-01, 7.040e-02, 1.620e-02, 9.182e-01])"
      ]
     },
     "execution_count": 108,
     "metadata": {},
     "output_type": "execute_result"
    }
   ],
   "source": [
    "diagnosis_predict_arr1"
   ]
  },
  {
   "cell_type": "code",
   "execution_count": 109,
   "metadata": {},
   "outputs": [],
   "source": [
    "diagnosis_predict1=  pd.DataFrame(zip(diagnosis_predict_arr,y_test),columns=['Predicted_diagnosis','Actuals'])"
   ]
  },
  {
   "cell_type": "code",
   "execution_count": 110,
   "metadata": {
    "scrolled": true
   },
   "outputs": [
    {
     "data": {
      "text/html": [
       "<div>\n",
       "<style scoped>\n",
       "    .dataframe tbody tr th:only-of-type {\n",
       "        vertical-align: middle;\n",
       "    }\n",
       "\n",
       "    .dataframe tbody tr th {\n",
       "        vertical-align: top;\n",
       "    }\n",
       "\n",
       "    .dataframe thead th {\n",
       "        text-align: right;\n",
       "    }\n",
       "</style>\n",
       "<table border=\"1\" class=\"dataframe\">\n",
       "  <thead>\n",
       "    <tr style=\"text-align: right;\">\n",
       "      <th></th>\n",
       "      <th>Predicted_diagnosis</th>\n",
       "      <th>Actuals</th>\n",
       "    </tr>\n",
       "  </thead>\n",
       "  <tbody>\n",
       "    <tr>\n",
       "      <td>113</td>\n",
       "      <td>0</td>\n",
       "      <td>1</td>\n",
       "    </tr>\n",
       "    <tr>\n",
       "      <td>114</td>\n",
       "      <td>0</td>\n",
       "      <td>0</td>\n",
       "    </tr>\n",
       "    <tr>\n",
       "      <td>115</td>\n",
       "      <td>0</td>\n",
       "      <td>1</td>\n",
       "    </tr>\n",
       "    <tr>\n",
       "      <td>116</td>\n",
       "      <td>0</td>\n",
       "      <td>0</td>\n",
       "    </tr>\n",
       "    <tr>\n",
       "      <td>117</td>\n",
       "      <td>0</td>\n",
       "      <td>1</td>\n",
       "    </tr>\n",
       "  </tbody>\n",
       "</table>\n",
       "</div>"
      ],
      "text/plain": [
       "     Predicted_diagnosis  Actuals\n",
       "113                    0        1\n",
       "114                    0        0\n",
       "115                    0        1\n",
       "116                    0        0\n",
       "117                    0        1"
      ]
     },
     "execution_count": 110,
     "metadata": {},
     "output_type": "execute_result"
    }
   ],
   "source": [
    "diagnosis_predict1.tail()"
   ]
  },
  {
   "cell_type": "markdown",
   "metadata": {},
   "source": [
    "### XGBost Model"
   ]
  },
  {
   "cell_type": "code",
   "execution_count": 111,
   "metadata": {},
   "outputs": [],
   "source": [
    "import xgboost as xgb\n",
    "m2 = xgb.XGBRegressor()\n",
    "m2.fit(X_train, y_train)\n",
    "\n",
    "# Predicting the Validation Set Results\n",
    "predicted2 = m2.predict(X_test)"
   ]
  },
  {
   "cell_type": "code",
   "execution_count": 112,
   "metadata": {},
   "outputs": [
    {
     "name": "stdout",
     "output_type": "stream",
     "text": [
      "R2 score = 0.28\n",
      "Accuracy=  0.2831137955984273\n"
     ]
    }
   ],
   "source": [
    "print(\"R2 score =\", round(sm.r2_score(y_test, predicted2), 2))\n",
    "print(\"Accuracy= \", m2.score(X_test,y_test))"
   ]
  },
  {
   "cell_type": "code",
   "execution_count": 113,
   "metadata": {},
   "outputs": [],
   "source": [
    "#prediction using xgboost\n",
    "# clf.predict()\n",
    "#passing x dataframe for prediction of y\n",
    "diagnosis_predict_arr2 = m2.predict(X_test)"
   ]
  },
  {
   "cell_type": "code",
   "execution_count": 114,
   "metadata": {},
   "outputs": [
    {
     "data": {
      "text/plain": [
       "array([ 9.17361677e-01,  9.91234839e-01, -8.12310353e-02,  1.11487305e+00,\n",
       "       -1.19609579e-01,  5.73994398e-01,  3.61783803e-03,  6.30472004e-01,\n",
       "        2.21369326e-01,  8.13714385e-01,  1.73800867e-02,  9.38611329e-01,\n",
       "        7.60510385e-01, -6.72730654e-02,  2.49098539e-02,  6.83651805e-01,\n",
       "        9.93966579e-01, -6.06727041e-02,  2.07651421e-01,  4.06320952e-02,\n",
       "        1.13827050e+00, -6.65173866e-03,  1.02042711e+00, -3.64440642e-02,\n",
       "        7.58900225e-01, -1.47325229e-02,  1.01293933e+00,  5.76128960e-01,\n",
       "        2.95803219e-01,  7.08064675e-01, -4.10915818e-03,  4.50654536e-01,\n",
       "        9.89740312e-01,  4.02446985e-01,  4.37508047e-01,  3.26011539e-01,\n",
       "        1.13256311e+00,  5.14639497e-01, -4.39941371e-03, -1.80263549e-01,\n",
       "        7.25687575e-03,  9.37608778e-01, -2.17715874e-02, -8.90978333e-03,\n",
       "        9.42387283e-01, -3.83477062e-02,  5.90511002e-02,  2.78525621e-01,\n",
       "       -2.61946768e-02,  9.66216743e-01,  3.20913666e-03, -2.40097046e-01,\n",
       "        1.09366409e-01,  1.68886304e-01,  2.87181810e-02, -6.93787262e-02,\n",
       "        1.76489457e-01, -8.89998488e-03,  1.49941653e-01,  4.53232199e-01,\n",
       "        5.30889571e-01,  1.03785563e+00,  7.54521694e-03,  6.74763203e-01,\n",
       "        3.04141846e-02,  8.68199289e-01, -2.12417394e-02,  4.57070082e-01,\n",
       "        4.37205017e-01, -5.43186478e-02,  1.00118816e+00,  4.34241682e-01,\n",
       "        1.02674007e+00,  9.13297608e-02, -4.48865071e-02,  4.68243174e-02,\n",
       "       -5.02161123e-02,  5.72372854e-01,  5.14258929e-02,  8.79120529e-01,\n",
       "        1.49805835e-02, -4.26347926e-02,  6.20883763e-01,  4.65305805e-01,\n",
       "        9.51382995e-01,  5.22073269e-01,  4.01773870e-01, -4.31542331e-03,\n",
       "        2.95500785e-01, -4.59470674e-02, -6.32734504e-03,  9.34476972e-01,\n",
       "        9.53873396e-01,  7.85312593e-01, -3.93403023e-02,  5.34142435e-01,\n",
       "        1.67790579e-03,  1.06284654e+00,  1.00054865e-04,  1.53035009e-02,\n",
       "        3.81766669e-02,  2.19318837e-01,  1.29171256e-02,  8.87031555e-01,\n",
       "        3.29349160e-01, -9.03204363e-03, -1.01383207e-02,  9.37238514e-01,\n",
       "        8.45839381e-01, -4.28566290e-03,  7.01931775e-01, -9.58336145e-03,\n",
       "        9.84241188e-01,  6.52431667e-01,  4.87108201e-01,  1.48284985e-02,\n",
       "       -4.04327698e-02,  9.69489515e-01], dtype=float32)"
      ]
     },
     "execution_count": 114,
     "metadata": {},
     "output_type": "execute_result"
    }
   ],
   "source": [
    "diagnosis_predict_arr2"
   ]
  },
  {
   "cell_type": "code",
   "execution_count": 115,
   "metadata": {},
   "outputs": [],
   "source": [
    "diagnosis_predict2=  pd.DataFrame(zip(diagnosis_predict_arr,y_test),columns=['Predicted_diagnosis','Actuals'])"
   ]
  },
  {
   "cell_type": "code",
   "execution_count": 116,
   "metadata": {
    "scrolled": true
   },
   "outputs": [
    {
     "data": {
      "text/html": [
       "<div>\n",
       "<style scoped>\n",
       "    .dataframe tbody tr th:only-of-type {\n",
       "        vertical-align: middle;\n",
       "    }\n",
       "\n",
       "    .dataframe tbody tr th {\n",
       "        vertical-align: top;\n",
       "    }\n",
       "\n",
       "    .dataframe thead th {\n",
       "        text-align: right;\n",
       "    }\n",
       "</style>\n",
       "<table border=\"1\" class=\"dataframe\">\n",
       "  <thead>\n",
       "    <tr style=\"text-align: right;\">\n",
       "      <th></th>\n",
       "      <th>Predicted_diagnosis</th>\n",
       "      <th>Actuals</th>\n",
       "    </tr>\n",
       "  </thead>\n",
       "  <tbody>\n",
       "    <tr>\n",
       "      <td>0</td>\n",
       "      <td>0</td>\n",
       "      <td>1</td>\n",
       "    </tr>\n",
       "    <tr>\n",
       "      <td>1</td>\n",
       "      <td>0</td>\n",
       "      <td>1</td>\n",
       "    </tr>\n",
       "    <tr>\n",
       "      <td>2</td>\n",
       "      <td>0</td>\n",
       "      <td>0</td>\n",
       "    </tr>\n",
       "    <tr>\n",
       "      <td>3</td>\n",
       "      <td>0</td>\n",
       "      <td>1</td>\n",
       "    </tr>\n",
       "    <tr>\n",
       "      <td>4</td>\n",
       "      <td>0</td>\n",
       "      <td>0</td>\n",
       "    </tr>\n",
       "  </tbody>\n",
       "</table>\n",
       "</div>"
      ],
      "text/plain": [
       "   Predicted_diagnosis  Actuals\n",
       "0                    0        1\n",
       "1                    0        1\n",
       "2                    0        0\n",
       "3                    0        1\n",
       "4                    0        0"
      ]
     },
     "execution_count": 116,
     "metadata": {},
     "output_type": "execute_result"
    }
   ],
   "source": [
    "diagnosis_predict2.head()"
   ]
  },
  {
   "cell_type": "code",
   "execution_count": null,
   "metadata": {},
   "outputs": [],
   "source": []
  },
  {
   "cell_type": "markdown",
   "metadata": {},
   "source": [
    "### LinearRegression Model"
   ]
  },
  {
   "cell_type": "code",
   "execution_count": 117,
   "metadata": {},
   "outputs": [],
   "source": [
    "# Fitting Simple Linear Regression to the Training Set\n",
    "from sklearn.linear_model import LinearRegression\n",
    "import sklearn.metrics as sm\n",
    "m1 = LinearRegression()\n",
    "m1.fit(X_train, y_train)\n",
    "\n",
    "# Predicting the Test Set Results\n",
    "predicted1 = m1.predict(X_test)\n",
    "predicted1_for_test = m1.predict(X_test)"
   ]
  },
  {
   "cell_type": "code",
   "execution_count": 118,
   "metadata": {},
   "outputs": [
    {
     "name": "stdout",
     "output_type": "stream",
     "text": [
      "R2 score = 0.39\n",
      "Accuracy=  0.39482435555938283\n"
     ]
    }
   ],
   "source": [
    "print(\"R2 score =\", round(sm.r2_score(y_test, predicted1), 2))\n",
    "print(\"Accuracy= \", m1.score(X_test,y_test))"
   ]
  },
  {
   "cell_type": "code",
   "execution_count": 119,
   "metadata": {},
   "outputs": [],
   "source": [
    "#prediction using Leniar Regression\n",
    "# clf.predict()\n",
    "#passing x dataframe for prediction of y\n",
    "diagnosis_predict_arr4 = m1.predict(X_test)"
   ]
  },
  {
   "cell_type": "code",
   "execution_count": 120,
   "metadata": {},
   "outputs": [
    {
     "data": {
      "text/plain": [
       "array([ 0.83537411,  0.56047114,  0.12341482,  0.83384897,  0.29513734,\n",
       "        0.31766829,  0.01542406,  0.30367836,  0.33417203,  0.61701089,\n",
       "        0.2441484 ,  0.67289266,  0.57517064,  0.12309332,  0.13354389,\n",
       "        0.16044191,  0.79300614,  0.0357853 ,  0.01195596,  0.12732103,\n",
       "        0.71854614,  0.02624171,  0.90771444,  0.16907297,  1.20012703,\n",
       "        0.03777961,  1.49381988,  0.05236513,  0.43550416,  0.51534366,\n",
       "       -0.09464227, -0.15446372,  0.58719581,  0.3607321 ,  0.17170822,\n",
       "        0.36287053,  0.48557629,  0.43295932,  0.19848016,  0.62986781,\n",
       "        0.40183098,  0.45269434, -0.04705221,  0.09532692,  0.47143255,\n",
       "       -0.07456031,  0.06980272,  0.51991995,  0.26684569,  1.14349202,\n",
       "       -0.0132325 ,  0.21925871, -0.16008857, -0.14353055,  0.09712376,\n",
       "        0.07940449,  0.35791352, -0.04613008,  0.47915739,  0.43919171,\n",
       "        0.62619846,  1.18653997,  0.14143447,  0.60677234,  0.14646436,\n",
       "        0.73268007,  0.08836858,  0.46883187,  0.39809071,  0.05237052,\n",
       "        1.19980452,  0.3262385 ,  0.92325955,  0.38377419,  0.33469949,\n",
       "       -0.05994351, -0.0483041 ,  0.40544111,  0.22921801,  0.86234182,\n",
       "        0.15542514,  0.12421617,  0.50480491,  0.30495651,  0.41199111,\n",
       "        0.22279677,  0.46704368, -0.08550594,  0.38207532,  0.12229149,\n",
       "       -0.0703901 ,  0.55395661,  0.76285546,  0.30144502,  0.05098502,\n",
       "       -0.08379125,  0.06632237,  1.15821441, -0.03705292,  0.05712439,\n",
       "        0.10977133,  0.2609577 ,  0.1263771 ,  0.79156538,  0.22460028,\n",
       "        0.16437944,  0.14882382,  0.95183475,  0.39517565, -0.01046772,\n",
       "        0.35066018,  0.05237015,  1.0610877 ,  0.46355497,  0.38866488,\n",
       "        0.25447076,  0.04082896,  0.94986543])"
      ]
     },
     "execution_count": 120,
     "metadata": {},
     "output_type": "execute_result"
    }
   ],
   "source": [
    "diagnosis_predict_arr4"
   ]
  },
  {
   "cell_type": "code",
   "execution_count": 121,
   "metadata": {},
   "outputs": [],
   "source": [
    "diagnosis_predict4=  pd.DataFrame(zip(diagnosis_predict_arr,y_test),columns=['Predicted_diagnosis','Actuals'])"
   ]
  },
  {
   "cell_type": "code",
   "execution_count": 122,
   "metadata": {},
   "outputs": [
    {
     "data": {
      "text/html": [
       "<div>\n",
       "<style scoped>\n",
       "    .dataframe tbody tr th:only-of-type {\n",
       "        vertical-align: middle;\n",
       "    }\n",
       "\n",
       "    .dataframe tbody tr th {\n",
       "        vertical-align: top;\n",
       "    }\n",
       "\n",
       "    .dataframe thead th {\n",
       "        text-align: right;\n",
       "    }\n",
       "</style>\n",
       "<table border=\"1\" class=\"dataframe\">\n",
       "  <thead>\n",
       "    <tr style=\"text-align: right;\">\n",
       "      <th></th>\n",
       "      <th>Predicted_diagnosis</th>\n",
       "      <th>Actuals</th>\n",
       "    </tr>\n",
       "  </thead>\n",
       "  <tbody>\n",
       "    <tr>\n",
       "      <td>0</td>\n",
       "      <td>0</td>\n",
       "      <td>1</td>\n",
       "    </tr>\n",
       "    <tr>\n",
       "      <td>1</td>\n",
       "      <td>0</td>\n",
       "      <td>1</td>\n",
       "    </tr>\n",
       "    <tr>\n",
       "      <td>2</td>\n",
       "      <td>0</td>\n",
       "      <td>0</td>\n",
       "    </tr>\n",
       "    <tr>\n",
       "      <td>3</td>\n",
       "      <td>0</td>\n",
       "      <td>1</td>\n",
       "    </tr>\n",
       "    <tr>\n",
       "      <td>4</td>\n",
       "      <td>0</td>\n",
       "      <td>0</td>\n",
       "    </tr>\n",
       "  </tbody>\n",
       "</table>\n",
       "</div>"
      ],
      "text/plain": [
       "   Predicted_diagnosis  Actuals\n",
       "0                    0        1\n",
       "1                    0        1\n",
       "2                    0        0\n",
       "3                    0        1\n",
       "4                    0        0"
      ]
     },
     "execution_count": 122,
     "metadata": {},
     "output_type": "execute_result"
    }
   ],
   "source": [
    "diagnosis_predict4.head()"
   ]
  },
  {
   "cell_type": "markdown",
   "metadata": {},
   "source": [
    "### Prepocessing the data to pridict stage using trained model"
   ]
  },
  {
   "cell_type": "code",
   "execution_count": 123,
   "metadata": {},
   "outputs": [],
   "source": [
    "#if stage.isnull is returning False,hence no null value else there is null value\n",
    "stage_train_data = stage_data[stage_data.stage.isnull()==False]\n",
    "stage_test_data = stage_data[stage_data.stage.isnull()]"
   ]
  },
  {
   "cell_type": "markdown",
   "metadata": {},
   "source": [
    "###  Label Encoding"
   ]
  },
  {
   "cell_type": "code",
   "execution_count": 124,
   "metadata": {},
   "outputs": [],
   "source": [
    "stage_label_enc = LabelEncoder()\n",
    "stage_label_enc.fit(stage_train_data['stage'])\n",
    "stage_train_data['stage'] = stage_label_enc.transform(stage_train_data['stage'])"
   ]
  },
  {
   "cell_type": "markdown",
   "metadata": {},
   "source": [
    "### Spliting"
   ]
  },
  {
   "cell_type": "code",
   "execution_count": 125,
   "metadata": {},
   "outputs": [],
   "source": [
    "# Converting the main_train into X and y so that we can pass it onto train_test_split function\n",
    "# ind --> contains the dataframe without the target i.e diagnosis which are the independent varibles\n",
    "ind_stage_data = stage_train_data.drop('stage',axis=1)\n",
    "# dep --> contains only the target value \n",
    "dep_stage_data = stage_train_data['stage']"
   ]
  },
  {
   "cell_type": "code",
   "execution_count": 126,
   "metadata": {},
   "outputs": [
    {
     "data": {
      "text/html": [
       "<div>\n",
       "<style scoped>\n",
       "    .dataframe tbody tr th:only-of-type {\n",
       "        vertical-align: middle;\n",
       "    }\n",
       "\n",
       "    .dataframe tbody tr th {\n",
       "        vertical-align: top;\n",
       "    }\n",
       "\n",
       "    .dataframe thead th {\n",
       "        text-align: right;\n",
       "    }\n",
       "</style>\n",
       "<table border=\"1\" class=\"dataframe\">\n",
       "  <thead>\n",
       "    <tr style=\"text-align: right;\">\n",
       "      <th></th>\n",
       "      <th>patient_cohort</th>\n",
       "      <th>sample_origin</th>\n",
       "      <th>age</th>\n",
       "      <th>sex</th>\n",
       "      <th>benign_sample_diagnosis</th>\n",
       "      <th>plasma_CA19_9</th>\n",
       "      <th>creatinine</th>\n",
       "      <th>LYVE1</th>\n",
       "      <th>REG1B</th>\n",
       "      <th>TFF1</th>\n",
       "      <th>REG1A</th>\n",
       "    </tr>\n",
       "  </thead>\n",
       "  <tbody>\n",
       "    <tr>\n",
       "      <td>391</td>\n",
       "      <td>Cohort1</td>\n",
       "      <td>ESP</td>\n",
       "      <td>81</td>\n",
       "      <td>F</td>\n",
       "      <td>NaN</td>\n",
       "      <td>NaN</td>\n",
       "      <td>0.56550</td>\n",
       "      <td>12.017150</td>\n",
       "      <td>431.422530</td>\n",
       "      <td>874.099700</td>\n",
       "      <td>NaN</td>\n",
       "    </tr>\n",
       "    <tr>\n",
       "      <td>392</td>\n",
       "      <td>Cohort1</td>\n",
       "      <td>LIV</td>\n",
       "      <td>57</td>\n",
       "      <td>M</td>\n",
       "      <td>NaN</td>\n",
       "      <td>10.0</td>\n",
       "      <td>1.73043</td>\n",
       "      <td>2.628425</td>\n",
       "      <td>40.620818</td>\n",
       "      <td>529.984000</td>\n",
       "      <td>155.270</td>\n",
       "    </tr>\n",
       "    <tr>\n",
       "      <td>393</td>\n",
       "      <td>Cohort1</td>\n",
       "      <td>BPTB</td>\n",
       "      <td>55</td>\n",
       "      <td>M</td>\n",
       "      <td>NaN</td>\n",
       "      <td>11.0</td>\n",
       "      <td>0.47502</td>\n",
       "      <td>2.830541</td>\n",
       "      <td>33.406150</td>\n",
       "      <td>323.175770</td>\n",
       "      <td>210.185</td>\n",
       "    </tr>\n",
       "    <tr>\n",
       "      <td>394</td>\n",
       "      <td>Cohort2</td>\n",
       "      <td>BPTB</td>\n",
       "      <td>58</td>\n",
       "      <td>M</td>\n",
       "      <td>NaN</td>\n",
       "      <td>11.0</td>\n",
       "      <td>0.44109</td>\n",
       "      <td>0.632433</td>\n",
       "      <td>188.253000</td>\n",
       "      <td>138.630000</td>\n",
       "      <td>NaN</td>\n",
       "    </tr>\n",
       "    <tr>\n",
       "      <td>395</td>\n",
       "      <td>Cohort1</td>\n",
       "      <td>LIV</td>\n",
       "      <td>73</td>\n",
       "      <td>M</td>\n",
       "      <td>NaN</td>\n",
       "      <td>3236.0</td>\n",
       "      <td>0.70122</td>\n",
       "      <td>12.245820</td>\n",
       "      <td>196.921830</td>\n",
       "      <td>1529.183124</td>\n",
       "      <td>432.917</td>\n",
       "    </tr>\n",
       "  </tbody>\n",
       "</table>\n",
       "</div>"
      ],
      "text/plain": [
       "    patient_cohort sample_origin  age sex benign_sample_diagnosis  \\\n",
       "391        Cohort1           ESP   81   F                     NaN   \n",
       "392        Cohort1           LIV   57   M                     NaN   \n",
       "393        Cohort1          BPTB   55   M                     NaN   \n",
       "394        Cohort2          BPTB   58   M                     NaN   \n",
       "395        Cohort1           LIV   73   M                     NaN   \n",
       "\n",
       "     plasma_CA19_9  creatinine      LYVE1       REG1B         TFF1    REG1A  \n",
       "391            NaN     0.56550  12.017150  431.422530   874.099700      NaN  \n",
       "392           10.0     1.73043   2.628425   40.620818   529.984000  155.270  \n",
       "393           11.0     0.47502   2.830541   33.406150   323.175770  210.185  \n",
       "394           11.0     0.44109   0.632433  188.253000   138.630000      NaN  \n",
       "395         3236.0     0.70122  12.245820  196.921830  1529.183124  432.917  "
      ]
     },
     "execution_count": 126,
     "metadata": {},
     "output_type": "execute_result"
    }
   ],
   "source": [
    "ind_stage_data.head()"
   ]
  },
  {
   "cell_type": "code",
   "execution_count": 127,
   "metadata": {},
   "outputs": [],
   "source": [
    "#There are many null values hence droping it\n",
    "ind_stage_data = ind_stage_data.drop(columns=['benign_sample_diagnosis'])"
   ]
  },
  {
   "cell_type": "code",
   "execution_count": 128,
   "metadata": {},
   "outputs": [
    {
     "data": {
      "text/plain": [
       "391    0\n",
       "392    1\n",
       "393    1\n",
       "394    1\n",
       "395    2\n",
       "Name: stage, dtype: int32"
      ]
     },
     "execution_count": 128,
     "metadata": {},
     "output_type": "execute_result"
    }
   ],
   "source": [
    "dep_stage_data.head()"
   ]
  },
  {
   "cell_type": "code",
   "execution_count": 62,
   "metadata": {},
   "outputs": [
    {
     "data": {
      "text/plain": [
       "(199,)"
      ]
     },
     "execution_count": 62,
     "metadata": {},
     "output_type": "execute_result"
    }
   ],
   "source": [
    "dep_stage_data.shape"
   ]
  },
  {
   "cell_type": "markdown",
   "metadata": {},
   "source": [
    "### Encoding"
   ]
  },
  {
   "cell_type": "code",
   "execution_count": 129,
   "metadata": {},
   "outputs": [],
   "source": [
    "sample_origin = OrdinalEncoder()\n",
    "ind_stage_data[\"sample_origin\"] = sample_origin.fit_transform(ind_stage_data[[\"sample_origin\"]])"
   ]
  },
  {
   "cell_type": "code",
   "execution_count": 130,
   "metadata": {},
   "outputs": [],
   "source": [
    "sex = LabelEncoder()\n",
    "sex.fit(ind_stage_data['sex'])\n",
    "ind_stage_data['sex'] = sex.transform(ind_stage_data['sex'])"
   ]
  },
  {
   "cell_type": "code",
   "execution_count": 132,
   "metadata": {},
   "outputs": [],
   "source": [
    "patient_cohort = OrdinalEncoder()\n",
    "# patient_cohort.fit(ind_diagnosis_data['patient_cohort'])\n",
    "\n",
    "ind_stage_data[\"patient_cohort\"] = patient_cohort.fit_transform(ind_stage_data[[\"patient_cohort\"]])"
   ]
  },
  {
   "cell_type": "code",
   "execution_count": 133,
   "metadata": {},
   "outputs": [
    {
     "data": {
      "text/html": [
       "<div>\n",
       "<style scoped>\n",
       "    .dataframe tbody tr th:only-of-type {\n",
       "        vertical-align: middle;\n",
       "    }\n",
       "\n",
       "    .dataframe tbody tr th {\n",
       "        vertical-align: top;\n",
       "    }\n",
       "\n",
       "    .dataframe thead th {\n",
       "        text-align: right;\n",
       "    }\n",
       "</style>\n",
       "<table border=\"1\" class=\"dataframe\">\n",
       "  <thead>\n",
       "    <tr style=\"text-align: right;\">\n",
       "      <th></th>\n",
       "      <th>patient_cohort</th>\n",
       "      <th>sample_origin</th>\n",
       "      <th>age</th>\n",
       "      <th>sex</th>\n",
       "      <th>plasma_CA19_9</th>\n",
       "      <th>creatinine</th>\n",
       "      <th>LYVE1</th>\n",
       "      <th>REG1B</th>\n",
       "      <th>TFF1</th>\n",
       "      <th>REG1A</th>\n",
       "    </tr>\n",
       "  </thead>\n",
       "  <tbody>\n",
       "    <tr>\n",
       "      <td>391</td>\n",
       "      <td>0.0</td>\n",
       "      <td>1.0</td>\n",
       "      <td>81</td>\n",
       "      <td>0</td>\n",
       "      <td>1476.154733</td>\n",
       "      <td>0.56550</td>\n",
       "      <td>12.017150</td>\n",
       "      <td>431.422530</td>\n",
       "      <td>874.099700</td>\n",
       "      <td>1138.323721</td>\n",
       "    </tr>\n",
       "    <tr>\n",
       "      <td>392</td>\n",
       "      <td>0.0</td>\n",
       "      <td>2.0</td>\n",
       "      <td>57</td>\n",
       "      <td>1</td>\n",
       "      <td>10.000000</td>\n",
       "      <td>1.73043</td>\n",
       "      <td>2.628425</td>\n",
       "      <td>40.620818</td>\n",
       "      <td>529.984000</td>\n",
       "      <td>155.270000</td>\n",
       "    </tr>\n",
       "    <tr>\n",
       "      <td>393</td>\n",
       "      <td>0.0</td>\n",
       "      <td>0.0</td>\n",
       "      <td>55</td>\n",
       "      <td>1</td>\n",
       "      <td>11.000000</td>\n",
       "      <td>0.47502</td>\n",
       "      <td>2.830541</td>\n",
       "      <td>33.406150</td>\n",
       "      <td>323.175770</td>\n",
       "      <td>210.185000</td>\n",
       "    </tr>\n",
       "    <tr>\n",
       "      <td>394</td>\n",
       "      <td>1.0</td>\n",
       "      <td>0.0</td>\n",
       "      <td>58</td>\n",
       "      <td>1</td>\n",
       "      <td>11.000000</td>\n",
       "      <td>0.44109</td>\n",
       "      <td>0.632433</td>\n",
       "      <td>188.253000</td>\n",
       "      <td>138.630000</td>\n",
       "      <td>1138.323721</td>\n",
       "    </tr>\n",
       "    <tr>\n",
       "      <td>395</td>\n",
       "      <td>0.0</td>\n",
       "      <td>2.0</td>\n",
       "      <td>73</td>\n",
       "      <td>1</td>\n",
       "      <td>3236.000000</td>\n",
       "      <td>0.70122</td>\n",
       "      <td>12.245820</td>\n",
       "      <td>196.921830</td>\n",
       "      <td>1529.183124</td>\n",
       "      <td>432.917000</td>\n",
       "    </tr>\n",
       "  </tbody>\n",
       "</table>\n",
       "</div>"
      ],
      "text/plain": [
       "     patient_cohort  sample_origin  age  sex  plasma_CA19_9  creatinine  \\\n",
       "391             0.0            1.0   81    0    1476.154733     0.56550   \n",
       "392             0.0            2.0   57    1      10.000000     1.73043   \n",
       "393             0.0            0.0   55    1      11.000000     0.47502   \n",
       "394             1.0            0.0   58    1      11.000000     0.44109   \n",
       "395             0.0            2.0   73    1    3236.000000     0.70122   \n",
       "\n",
       "         LYVE1       REG1B         TFF1        REG1A  \n",
       "391  12.017150  431.422530   874.099700  1138.323721  \n",
       "392   2.628425   40.620818   529.984000   155.270000  \n",
       "393   2.830541   33.406150   323.175770   210.185000  \n",
       "394   0.632433  188.253000   138.630000  1138.323721  \n",
       "395  12.245820  196.921830  1529.183124   432.917000  "
      ]
     },
     "execution_count": 133,
     "metadata": {},
     "output_type": "execute_result"
    }
   ],
   "source": [
    "#Filling all null values with mean\n",
    "for i in ind_stage_data[2:]:\n",
    "    if i!='sex':\n",
    "        ind_stage_data[i] = ind_stage_data[i].fillna(ind_stage_data[i].mean())\n",
    "ind_stage_data.head()"
   ]
  },
  {
   "cell_type": "markdown",
   "metadata": {},
   "source": [
    "### Traing Previously trained model on diagnoosis"
   ]
  },
  {
   "cell_type": "markdown",
   "metadata": {},
   "source": [
    "### SVM Model"
   ]
  },
  {
   "cell_type": "code",
   "execution_count": 134,
   "metadata": {},
   "outputs": [
    {
     "name": "stdout",
     "output_type": "stream",
     "text": [
      "Test set score: 0.25\n"
     ]
    }
   ],
   "source": [
    "#Previously used SVM model\n",
    "X_train, X_test, y_train, y_test = train_test_split(ind_stage_data,dep_stage_data,test_size=0.2)#between 80% and 20%\n",
    "SVM = clf.fit(X_train, y_train)\n",
    "\n",
    "score = SVM.score(X_test, y_test)\n",
    "print('Test set score: {}'.format(score))"
   ]
  },
  {
   "cell_type": "code",
   "execution_count": 135,
   "metadata": {},
   "outputs": [],
   "source": [
    "predicte = clf.predict(X_test)"
   ]
  },
  {
   "cell_type": "code",
   "execution_count": 136,
   "metadata": {},
   "outputs": [
    {
     "name": "stdout",
     "output_type": "stream",
     "text": [
      "R2 score = -0.59\n",
      "Accuracy=  0.25\n"
     ]
    }
   ],
   "source": [
    "print(\"R2 score =\", round(sm.r2_score(y_test, predicte), 2))\n",
    "print(\"Accuracy= \", clf.score(X_test,y_test))"
   ]
  },
  {
   "cell_type": "code",
   "execution_count": null,
   "metadata": {},
   "outputs": [],
   "source": []
  },
  {
   "cell_type": "markdown",
   "metadata": {},
   "source": [
    "### Random Forest"
   ]
  },
  {
   "cell_type": "code",
   "execution_count": 145,
   "metadata": {},
   "outputs": [],
   "source": [
    "clf2.fit(X_train, y_train)\n",
    "\n",
    "# Predicting the Validation Set Results\n",
    "stage_predicted3 = clf2.predict(X_test)"
   ]
  },
  {
   "cell_type": "code",
   "execution_count": 146,
   "metadata": {},
   "outputs": [
    {
     "name": "stdout",
     "output_type": "stream",
     "text": [
      "R2 score = -0.11\n",
      "Accuracy=  -0.11428487499999984\n"
     ]
    }
   ],
   "source": [
    "print(\"R2 score =\", round(sm.r2_score(y_test, stage_predicted3), 2))\n",
    "print(\"Accuracy= \", clf2.score(X_test,y_test))"
   ]
  },
  {
   "cell_type": "markdown",
   "metadata": {},
   "source": [
    "### XGBost Model"
   ]
  },
  {
   "cell_type": "code",
   "execution_count": 147,
   "metadata": {},
   "outputs": [],
   "source": [
    "m2.fit(X_train, y_train)\n",
    "\n",
    "# Predicting the Validation Set Results\n",
    "predicted2 = m2.predict(X_test)"
   ]
  },
  {
   "cell_type": "code",
   "execution_count": 148,
   "metadata": {},
   "outputs": [
    {
     "name": "stdout",
     "output_type": "stream",
     "text": [
      "R2 score = -0.41\n",
      "Accuracy=  -0.4141040736965855\n"
     ]
    }
   ],
   "source": [
    "print(\"R2 score =\", round(sm.r2_score(y_test, predicted2), 2))\n",
    "print(\"Accuracy= \", m2.score(X_test,y_test))"
   ]
  },
  {
   "cell_type": "code",
   "execution_count": null,
   "metadata": {},
   "outputs": [],
   "source": []
  },
  {
   "cell_type": "markdown",
   "metadata": {},
   "source": [
    "### LinearRegression Model"
   ]
  },
  {
   "cell_type": "code",
   "execution_count": 149,
   "metadata": {},
   "outputs": [],
   "source": [
    "m1.fit(X_train, y_train)\n",
    "\n",
    "# Predicting the Test Set Results\n",
    "predicted1 = m1.predict(X_test)\n",
    "predicted1_for_test = m1.predict(X_test)"
   ]
  },
  {
   "cell_type": "code",
   "execution_count": 150,
   "metadata": {},
   "outputs": [
    {
     "name": "stdout",
     "output_type": "stream",
     "text": [
      "R2 score = -0.23\n",
      "Accuracy=  -0.22628202368808273\n"
     ]
    }
   ],
   "source": [
    "print(\"R2 score =\", round(sm.r2_score(y_test, predicted1), 2))\n",
    "print(\"Accuracy= \", m1.score(X_test,y_test))"
   ]
  },
  {
   "cell_type": "code",
   "execution_count": null,
   "metadata": {},
   "outputs": [],
   "source": []
  },
  {
   "cell_type": "code",
   "execution_count": null,
   "metadata": {},
   "outputs": [],
   "source": []
  },
  {
   "cell_type": "code",
   "execution_count": null,
   "metadata": {},
   "outputs": [],
   "source": []
  },
  {
   "cell_type": "code",
   "execution_count": null,
   "metadata": {},
   "outputs": [],
   "source": []
  },
  {
   "cell_type": "markdown",
   "metadata": {},
   "source": [
    "## END"
   ]
  },
  {
   "cell_type": "code",
   "execution_count": 45,
   "metadata": {},
   "outputs": [],
   "source": [
    "#prediction using random Forest\n",
    "# clf.predict()\n",
    "#passing x dataframe for prediction of y\n",
    "diagnosis_predict_arr = clf2.predict(ind_diagnosis_data)"
   ]
  },
  {
   "cell_type": "code",
   "execution_count": 137,
   "metadata": {},
   "outputs": [],
   "source": [
    "# diagnosis_predict_arr"
   ]
  },
  {
   "cell_type": "code",
   "execution_count": 47,
   "metadata": {},
   "outputs": [],
   "source": [
    "# diagnosis_predict=  pd.DataFrame(zip(diagnosis_predict_arr),columns=['Predicted_diagnosis'])"
   ]
  },
  {
   "cell_type": "code",
   "execution_count": 48,
   "metadata": {},
   "outputs": [
    {
     "data": {
      "text/plain": [
       "(590, 1)"
      ]
     },
     "execution_count": 48,
     "metadata": {},
     "output_type": "execute_result"
    }
   ],
   "source": [
    "# diagnosis_predict.shape"
   ]
  },
  {
   "cell_type": "code",
   "execution_count": 52,
   "metadata": {},
   "outputs": [
    {
     "data": {
      "text/html": [
       "<div>\n",
       "<style scoped>\n",
       "    .dataframe tbody tr th:only-of-type {\n",
       "        vertical-align: middle;\n",
       "    }\n",
       "\n",
       "    .dataframe tbody tr th {\n",
       "        vertical-align: top;\n",
       "    }\n",
       "\n",
       "    .dataframe thead th {\n",
       "        text-align: right;\n",
       "    }\n",
       "</style>\n",
       "<table border=\"1\" class=\"dataframe\">\n",
       "  <thead>\n",
       "    <tr style=\"text-align: right;\">\n",
       "      <th></th>\n",
       "      <th>Predicted_diagnosis</th>\n",
       "    </tr>\n",
       "  </thead>\n",
       "  <tbody>\n",
       "    <tr>\n",
       "      <td>0</td>\n",
       "      <td>0.0</td>\n",
       "    </tr>\n",
       "    <tr>\n",
       "      <td>1</td>\n",
       "      <td>0.0</td>\n",
       "    </tr>\n",
       "    <tr>\n",
       "      <td>2</td>\n",
       "      <td>0.0</td>\n",
       "    </tr>\n",
       "    <tr>\n",
       "      <td>3</td>\n",
       "      <td>0.0</td>\n",
       "    </tr>\n",
       "    <tr>\n",
       "      <td>4</td>\n",
       "      <td>0.0</td>\n",
       "    </tr>\n",
       "    <tr>\n",
       "      <td>...</td>\n",
       "      <td>...</td>\n",
       "    </tr>\n",
       "    <tr>\n",
       "      <td>585</td>\n",
       "      <td>0.9</td>\n",
       "    </tr>\n",
       "    <tr>\n",
       "      <td>586</td>\n",
       "      <td>0.4</td>\n",
       "    </tr>\n",
       "    <tr>\n",
       "      <td>587</td>\n",
       "      <td>1.0</td>\n",
       "    </tr>\n",
       "    <tr>\n",
       "      <td>588</td>\n",
       "      <td>0.9</td>\n",
       "    </tr>\n",
       "    <tr>\n",
       "      <td>589</td>\n",
       "      <td>1.0</td>\n",
       "    </tr>\n",
       "  </tbody>\n",
       "</table>\n",
       "<p>590 rows × 1 columns</p>\n",
       "</div>"
      ],
      "text/plain": [
       "     Predicted_diagnosis\n",
       "0                    0.0\n",
       "1                    0.0\n",
       "2                    0.0\n",
       "3                    0.0\n",
       "4                    0.0\n",
       "..                   ...\n",
       "585                  0.9\n",
       "586                  0.4\n",
       "587                  1.0\n",
       "588                  0.9\n",
       "589                  1.0\n",
       "\n",
       "[590 rows x 1 columns]"
      ]
     },
     "execution_count": 52,
     "metadata": {},
     "output_type": "execute_result"
    }
   ],
   "source": [
    "# diagnosis_predict"
   ]
  },
  {
   "cell_type": "markdown",
   "metadata": {},
   "source": [
    "#### Adding this Predicted_diagnosis in ind_stage_data"
   ]
  },
  {
   "cell_type": "code",
   "execution_count": null,
   "metadata": {},
   "outputs": [],
   "source": []
  },
  {
   "cell_type": "markdown",
   "metadata": {},
   "source": [
    "### Below here is just for Reference Don't run the code from here"
   ]
  },
  {
   "cell_type": "code",
   "execution_count": null,
   "metadata": {},
   "outputs": [],
   "source": [
    "# #if clear_date.isnull is returning False,hence no null value else there is null value\n",
    "# final_data=data\n",
    "# final_data = final_data[final_data.diagnosis.isnull()==False]\n",
    "# final_test = final_data[final_data.diagnosis.isnull()]"
   ]
  },
  {
   "cell_type": "code",
   "execution_count": null,
   "metadata": {},
   "outputs": [],
   "source": []
  },
  {
   "cell_type": "code",
   "execution_count": 47,
   "metadata": {},
   "outputs": [],
   "source": [
    "# #if stage.isnull is returning False,hence no null value else there is null value\n",
    "# final_train = data[data.stage.isnull()==False]\n",
    "# final_test = data[data.stage.isnull()]"
   ]
  },
  {
   "cell_type": "code",
   "execution_count": 48,
   "metadata": {},
   "outputs": [
    {
     "data": {
      "text/plain": [
       "sample_id                    0\n",
       "patient_cohort               0\n",
       "sample_origin                0\n",
       "age                          0\n",
       "sex                          0\n",
       "diagnosis                    0\n",
       "stage                        0\n",
       "benign_sample_diagnosis    199\n",
       "plasma_CA19_9               49\n",
       "creatinine                   0\n",
       "LYVE1                        0\n",
       "REG1B                        0\n",
       "TFF1                         0\n",
       "REG1A                       59\n",
       "dtype: int64"
      ]
     },
     "execution_count": 48,
     "metadata": {},
     "output_type": "execute_result"
    }
   ],
   "source": [
    "# final_train.isnull().sum()"
   ]
  },
  {
   "cell_type": "code",
   "execution_count": 49,
   "metadata": {},
   "outputs": [
    {
     "data": {
      "text/plain": [
       "sample_id                    0\n",
       "patient_cohort               0\n",
       "sample_origin                0\n",
       "age                          0\n",
       "sex                          0\n",
       "diagnosis                    0\n",
       "stage                      391\n",
       "benign_sample_diagnosis    183\n",
       "plasma_CA19_9              191\n",
       "creatinine                   0\n",
       "LYVE1                        0\n",
       "REG1B                        0\n",
       "TFF1                         0\n",
       "REG1A                      225\n",
       "dtype: int64"
      ]
     },
     "execution_count": 49,
     "metadata": {},
     "output_type": "execute_result"
    }
   ],
   "source": [
    "# final_test.isnull().sum()"
   ]
  },
  {
   "cell_type": "code",
   "execution_count": 50,
   "metadata": {},
   "outputs": [
    {
     "data": {
      "text/plain": [
       "(199, 14)"
      ]
     },
     "execution_count": 50,
     "metadata": {},
     "output_type": "execute_result"
    }
   ],
   "source": [
    "# final_train.shape"
   ]
  },
  {
   "cell_type": "code",
   "execution_count": 51,
   "metadata": {},
   "outputs": [],
   "source": [
    "# #Droping rows where plasma_CA19_9 and REG1A is null\n",
    "# final_test = final_test[(final_test.plasma_CA19_9.isnull()==False)]"
   ]
  },
  {
   "cell_type": "code",
   "execution_count": 52,
   "metadata": {},
   "outputs": [
    {
     "data": {
      "text/plain": [
       "sample_id                    0\n",
       "patient_cohort               0\n",
       "sample_origin                0\n",
       "age                          0\n",
       "sex                          0\n",
       "diagnosis                    0\n",
       "stage                      200\n",
       "benign_sample_diagnosis     92\n",
       "plasma_CA19_9                0\n",
       "creatinine                   0\n",
       "LYVE1                        0\n",
       "REG1B                        0\n",
       "TFF1                         0\n",
       "REG1A                      125\n",
       "dtype: int64"
      ]
     },
     "execution_count": 52,
     "metadata": {},
     "output_type": "execute_result"
    }
   ],
   "source": [
    "# final_test.isnull().sum()"
   ]
  },
  {
   "cell_type": "code",
   "execution_count": 53,
   "metadata": {},
   "outputs": [
    {
     "data": {
      "text/plain": [
       "(200, 14)"
      ]
     },
     "execution_count": 53,
     "metadata": {},
     "output_type": "execute_result"
    }
   ],
   "source": [
    "# final_test.shape"
   ]
  },
  {
   "cell_type": "code",
   "execution_count": null,
   "metadata": {},
   "outputs": [],
   "source": []
  },
  {
   "cell_type": "markdown",
   "metadata": {},
   "source": [
    "### Spliting final_train into Train/Test"
   ]
  },
  {
   "cell_type": "code",
   "execution_count": 25,
   "metadata": {},
   "outputs": [],
   "source": [
    "# # Converting the main_train into X and y so that we can pass it onto train_test_split function\n",
    "# # ind --> contains the dataframe without the target i.e delay which are the independent varibles\n",
    "# final_train=data\n",
    "# ind = final_train.drop('diagnosis',axis=1)\n",
    "# # dep --> contains only the target value \n",
    "# dep = final_train['diagnosis']"
   ]
  },
  {
   "cell_type": "code",
   "execution_count": null,
   "metadata": {},
   "outputs": [],
   "source": []
  }
 ],
 "metadata": {
  "kernelspec": {
   "display_name": "Python 3",
   "language": "python",
   "name": "python3"
  },
  "language_info": {
   "codemirror_mode": {
    "name": "ipython",
    "version": 3
   },
   "file_extension": ".py",
   "mimetype": "text/x-python",
   "name": "python",
   "nbconvert_exporter": "python",
   "pygments_lexer": "ipython3",
   "version": "3.6.10"
  }
 },
 "nbformat": 4,
 "nbformat_minor": 2
}
